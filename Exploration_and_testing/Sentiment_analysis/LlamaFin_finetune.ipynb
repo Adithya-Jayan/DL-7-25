{
 "cells": [
  {
   "cell_type": "code",
   "execution_count": null,
   "id": "d749bd35",
   "metadata": {},
   "outputs": [],
   "source": [
    "# Step 1: Install Required Libraries\n",
    "!pip install -q transformers datasets peft accelerate bitsandbytes wandb\n",
    "\n",
    "# Step 2: Login to wandb\n",
    "import wandb\n",
    "wandb.login()\n"
   ]
  },
  {
   "cell_type": "code",
   "execution_count": null,
   "id": "a3af7aaa",
   "metadata": {},
   "outputs": [],
   "source": [
    "174c1ddcbb847ec9737e82989aa320968ee1b93d\n"
   ]
  },
  {
   "cell_type": "code",
   "execution_count": null,
   "id": "f4f84f88",
   "metadata": {},
   "outputs": [],
   "source": [
    "pip install ipywidgets"
   ]
  },
  {
   "cell_type": "code",
   "execution_count": null,
   "id": "03ee9724",
   "metadata": {},
   "outputs": [],
   "source": [
    "pip install -U bitsandbytes"
   ]
  },
  {
   "cell_type": "code",
   "execution_count": null,
   "id": "962bcee7",
   "metadata": {},
   "outputs": [],
   "source": [
    "%load_ext autoreload\n",
    "%autoreload 2"
   ]
  },
  {
   "cell_type": "code",
   "execution_count": null,
   "id": "9b9c7200",
   "metadata": {},
   "outputs": [],
   "source": [
    "pip install -U bitsandbytes"
   ]
  },
  {
   "cell_type": "code",
   "execution_count": null,
   "id": "dad4c685",
   "metadata": {},
   "outputs": [],
   "source": [
    "\n",
    "# Step 3: Load LlamaFin Model\n",
    "from transformers import AutoModelForCausalLM\n",
    "\n",
    "model_id = \"us4/fin-llama3.1-8b\"\n",
    "\n",
    "model = AutoModelForCausalLM.from_pretrained(\n",
    "    model_id,\n",
    "    device_map=\"auto\",\n",
    "    trust_remote_code=True,\n",
    "    quantization_config={\n",
    "        \"load_in_4bit\": True,\n",
    "        \"bnb_4bit_use_double_quant\": True,\n",
    "        \"bnb_4bit_quant_type\": \"nf4\",\n",
    "        \"bnb_4bit_compute_dtype\": \"float16\"\n",
    "    },\n",
    "    #use_auth_token=access_token \n",
    ")\n"
   ]
  },
  {
   "cell_type": "code",
   "execution_count": null,
   "id": "8959883a",
   "metadata": {},
   "outputs": [],
   "source": [
    "# Step 4: Load and Format Your Financial Dataset\n",
    "from datasets import load_dataset\n",
    "\n",
    "dataset = load_dataset(\"json\", data_files={\"train\": \"train.json\", \"validation\": \"val.json\"})\n",
    "\n",
    "def format_prompt(example):\n",
    "    text = f\"### Instruction:\\n{example['prompt']}\\n### Response:\\n{example['completion']}\"\n",
    "    return tokenizer(text, truncation=True, padding=\"max_length\", max_length=512)\n",
    "\n",
    "tokenized_dataset = dataset.map(format_prompt)\n"
   ]
  },
  {
   "cell_type": "code",
   "execution_count": null,
   "id": "75dff04a",
   "metadata": {},
   "outputs": [],
   "source": [
    "# Step 5: Apply LoRA Adapter for Efficient Fine-Tuning\n",
    "from peft import prepare_model_for_kbit_training, LoraConfig, get_peft_model, TaskType\n",
    "\n",
    "model = prepare_model_for_kbit_training(model)\n",
    "\n",
    "lora_config = LoraConfig(\n",
    "    r=8,\n",
    "    lora_alpha=32,\n",
    "    lora_dropout=0.05,\n",
    "    bias=\"none\",\n",
    "    task_type=TaskType.CAUSAL_LM,\n",
    "    target_modules=[\"q_proj\", \"v_proj\"]\n",
    ")\n",
    "\n",
    "model = get_peft_model(model, lora_config)\n",
    "model.print_trainable_parameters()\n"
   ]
  },
  {
   "cell_type": "code",
   "execution_count": null,
   "id": "609021ed",
   "metadata": {},
   "outputs": [],
   "source": [
    "# Step 6: Set Up wandb Tracking and TrainingArguments\n",
    "from transformers import TrainingArguments, Trainer\n",
    "\n",
    "wandb.init(project=\"llamafin-finetuning\")\n",
    "\n",
    "training_args = TrainingArguments(\n",
    "    output_dir=\"./llamafin_lora\",\n",
    "    per_device_train_batch_size=2,\n",
    "    per_device_eval_batch_size=2,\n",
    "    num_train_epochs=3,\n",
    "    gradient_accumulation_steps=4,\n",
    "    learning_rate=2e-5,\n",
    "    evaluation_strategy=\"epoch\",\n",
    "    save_strategy=\"epoch\",\n",
    "    logging_steps=10,\n",
    "    weight_decay=0.01,\n",
    "    report_to=\"wandb\",\n",
    "    fp16=True\n",
    ")\n"
   ]
  },
  {
   "cell_type": "code",
   "execution_count": null,
   "id": "746ff320",
   "metadata": {},
   "outputs": [],
   "source": [
    "# Step 7: Fine-Tune the Model\n",
    "trainer = Trainer(\n",
    "    model=model,\n",
    "    args=training_args,\n",
    "    train_dataset=tokenized_dataset[\"train\"],\n",
    "    eval_dataset=tokenized_dataset[\"validation\"],\n",
    ")\n",
    "\n",
    "trainer.train()\n"
   ]
  },
  {
   "cell_type": "code",
   "execution_count": null,
   "id": "0368054a",
   "metadata": {},
   "outputs": [],
   "source": [
    "# Step 8: Save Fine-Tuned Model\n",
    "model.save_pretrained(\"./llamafin_lora\")\n",
    "tokenizer.save_pretrained(\"./llamafin_lora\")\n"
   ]
  }
 ],
 "metadata": {
  "kernelspec": {
   "display_name": "Python 3",
   "language": "python",
   "name": "python3"
  },
  "language_info": {
   "codemirror_mode": {
    "name": "ipython",
    "version": 3
   },
   "file_extension": ".py",
   "mimetype": "text/x-python",
   "name": "python",
   "nbconvert_exporter": "python",
   "pygments_lexer": "ipython3",
   "version": "3.9.6"
  }
 },
 "nbformat": 4,
 "nbformat_minor": 5
}
