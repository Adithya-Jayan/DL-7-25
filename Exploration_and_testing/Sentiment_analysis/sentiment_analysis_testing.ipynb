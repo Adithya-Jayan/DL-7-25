{
 "cells": [
  {
   "cell_type": "markdown",
   "id": "581365e6",
   "metadata": {},
   "source": [
    "### References: \n",
    "\n",
    "Model : \n",
    "- https://huggingface.co/docs/transformers/model_doc/distilbert\n",
    "- https://huggingface.co/blog/sentiment-analysis-python#2-how-to-use-pre-trained-sentiment-analysis-models-with-python\n",
    "\n",
    "-----"
   ]
  },
  {
   "cell_type": "code",
   "execution_count": null,
   "id": "aa72f562",
   "metadata": {},
   "outputs": [],
   "source": [
    "#### Install libraries (Uncomment if needed)\n",
    "# %pip install -q transformers"
   ]
  },
  {
   "cell_type": "code",
   "execution_count": 5,
   "id": "ab08ed17",
   "metadata": {},
   "outputs": [],
   "source": [
    "# Import libraries\n",
    "import transformers\n",
    "import torch"
   ]
  },
  {
   "cell_type": "code",
   "execution_count": 6,
   "id": "5c1f85a1",
   "metadata": {},
   "outputs": [
    {
     "data": {
      "application/vnd.jupyter.widget-view+json": {
       "model_id": "264cd4d54f9640c6a1e243a9dd233a80",
       "version_major": 2,
       "version_minor": 0
      },
      "text/plain": [
       "Downloading config.json:   0%|          | 0.00/629 [00:00<?, ?B/s]"
      ]
     },
     "metadata": {},
     "output_type": "display_data"
    },
    {
     "data": {
      "application/vnd.jupyter.widget-view+json": {
       "model_id": "840230defaec4238a48e0aa4324fef2f",
       "version_major": 2,
       "version_minor": 0
      },
      "text/plain": [
       "Downloading model.safetensors:   0%|          | 0.00/268M [00:00<?, ?B/s]"
      ]
     },
     "metadata": {},
     "output_type": "display_data"
    },
    {
     "data": {
      "application/vnd.jupyter.widget-view+json": {
       "model_id": "924140d3264640b8aaaea7c36fc0f6cb",
       "version_major": 2,
       "version_minor": 0
      },
      "text/plain": [
       "Downloading tokenizer_config.json:   0%|          | 0.00/48.0 [00:00<?, ?B/s]"
      ]
     },
     "metadata": {},
     "output_type": "display_data"
    },
    {
     "data": {
      "application/vnd.jupyter.widget-view+json": {
       "model_id": "b534b629f902449db2086f580ca8471b",
       "version_major": 2,
       "version_minor": 0
      },
      "text/plain": [
       "Downloading vocab.txt:   0%|          | 0.00/232k [00:00<?, ?B/s]"
      ]
     },
     "metadata": {},
     "output_type": "display_data"
    }
   ],
   "source": [
    "#\"DistilBERT is a smaller, faster and cheaper version of BERT. [Around 268 Mb]\n",
    "sentiment_pipeline = transformers.pipeline(\n",
    "    task=\"text-classification\",\n",
    "    model=\"distilbert-base-uncased-finetuned-sst-2-english\",\n",
    "    torch_dtype=torch.float16,\n",
    "    device=0\n",
    ") "
   ]
  },
  {
   "cell_type": "code",
   "execution_count": 15,
   "id": "c22d82f0",
   "metadata": {},
   "outputs": [
    {
     "name": "stdout",
     "output_type": "stream",
     "text": [
      "[{'label': 'POSITIVE', 'score': 0.9993700385093689}, {'label': 'POSITIVE', 'score': 0.9919223785400391}, {'label': 'POSITIVE', 'score': 0.950456976890564}, {'label': 'NEGATIVE', 'score': 0.9962345957756042}]\n"
     ]
    }
   ],
   "source": [
    "\n",
    "data = [\"India is my country\", \"RCB might actually win the IPL this year\", \"Covid cure found\", \"A new desease appeared\"]\n",
    "result = sentiment_pipeline(data)\n",
    "print(result)"
   ]
  },
  {
   "cell_type": "code",
   "execution_count": 13,
   "id": "c873ea5e",
   "metadata": {},
   "outputs": [
    {
     "data": {
      "text/plain": [
       "[{'label': 'NEGATIVE', 'score': 0.9752489924430847}]"
      ]
     },
     "execution_count": 13,
     "metadata": {},
     "output_type": "execute_result"
    }
   ],
   "source": [
    "sentiment_pipeline([\"CDS Gen Anil Chauhan's stern warning to Pakistan: 'India not going to live under shadow of terror and nuclear blackmail'\"])"
   ]
  },
  {
   "cell_type": "markdown",
   "id": "88658aa7",
   "metadata": {},
   "source": []
  }
 ],
 "metadata": {
  "kernelspec": {
   "display_name": "MLEnvt_Python38",
   "language": "python",
   "name": "python3"
  },
  "language_info": {
   "codemirror_mode": {
    "name": "ipython",
    "version": 3
   },
   "file_extension": ".py",
   "mimetype": "text/x-python",
   "name": "python",
   "nbconvert_exporter": "python",
   "pygments_lexer": "ipython3",
   "version": "3.8.16"
  }
 },
 "nbformat": 4,
 "nbformat_minor": 5
}
