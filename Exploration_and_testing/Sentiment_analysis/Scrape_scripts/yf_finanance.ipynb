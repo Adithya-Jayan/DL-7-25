{
 "cells": [
  {
   "cell_type": "code",
   "execution_count": null,
   "id": "0dd78fe6",
   "metadata": {},
   "outputs": [
    {
     "name": "stdout",
     "output_type": "stream",
     "text": [
      "Error extracting article: 'NoneType' object has no attribute 'find'\n",
      "<li class=\"stream-item story-item yf-1drgw5l\"><section class=\"container sz-xx-large optimizedStream yf-1jsv3x8 responsive rev showMobileThumbnails\" data-testid=\"storyitem\" role=\"article\"><a aria-label=\"Analyst Report: RH\" class=\"subtle-link fin-size-small thumb yf-17w8w6\" data-rapid_p=\"21\" data-ylk=\"elm:img;elmt:link;itc:0;ct:story;slk:Analyst%20Report%3A%20RH;sec:news-stream;subsec:fltrd-strs;cpos:7;g:4c955458-f08f-3af3-9ea4-9953826eafa5\" href=\"https://finance.yahoo.com/research/reports/MS_0P0000X96M_AnalystReport_1749791025000?yptr=yahoo&amp;ncid=yahooproperties_plusresear_nm5q6ze1cei\" title=\"Analyst Report: RH\"><div style=\"display: contents; --border-radius:var(--border-radius-m); --aspect-ratio:16/9;\"> <img alt=\"Analyst Report: RH\" class=\"tw-bg-opacity-25 yf-13q9uv1\" fetchpriority=\"auto\" loading=\"lazy\" sizes=\"12.125rem\" src=\"https://s.yimg.com/uu/api/res/1.2/T0vKR8.UUSwF3s8pOO5fnA--~B/aD0wO3c9MDthcHBpZD15dGFjaHlvbg--/https://s.yimg.com/uc/fin/img/non-sub-report-thumb.png.cf.webp\"/></div> </a> <div class=\"content yf-1jsv3x8\"><a aria-label=\"Analyst Report: RH\" class=\"subtle-link fin-size-small titles noUnderline yf-17w8w6\" data-rapid_p=\"22\" data-ylk=\"elm:hdln;elmt:link;itc:0;ct:story;slk:Analyst%20Report%3A%20RH;sec:news-stream;subsec:fltrd-strs;cpos:7;g:4c955458-f08f-3af3-9ea4-9953826eafa5\" href=\"https://finance.yahoo.com/research/reports/MS_0P0000X96M_AnalystReport_1749791025000?yptr=yahoo&amp;ncid=yahooproperties_plusresear_nm5q6ze1cei\" title=\"Analyst Report: RH\"><h3 class=\"clamp yf-1jsv3x8\">Analyst Report: RH</h3> </a> <div class=\"footer yf-1jsv3x8\"> <div class=\"publishing yf-1weyqlp\">Morningstar Research <i aria-hidden=\"true\" data-svelte-h=\"svelte-sg6bkb\">•</i> 4 hours ago</div> <div class=\"taxonomy-links yf-13tszyc\"><span class=\"ticker-wrapper yf-1jsynna has-follow\"><a aria-label=\"RH\" class=\"ticker x-small hover2 border has-follow streaming yf-1jsynna\" data-rapid_p=\"23\" data-testid=\"ticker-container\" data-ylk=\"elm:qte;elmt:link;itc:0;sec:news-stream;slk:RH;subsec:fltrd-strs;cpos:7\" href=\"/quote/RH/\" title=\"RH\"> <div class=\"name yf-1jsynna\"><span class=\"symbol yf-1jsynna\">RH </span> </div> <fin-streamer active=\"\" class=\"percentChange yf-1jsynna\" data-field=\"regularMarketChangePercent\" data-pricehint=\"2\" data-symbol=\"RH\" data-trend=\"txt\" data-tstyle=\"default\"></fin-streamer> </a> <div class=\"follow yf-1jsynna\"><div data-testid=\"lazy-render\"></div> <button aria-label=\"Follow\" class=\"placeholder-btn yf-li9b97\" data-rapid_p=\"24\" data-testid=\"follow-btn-loading\"><div aria-hidden=\"true\" class=\"icon fin-icon tertiary-icn sz-medium yf-9qlxtu\"><svg viewbox=\"0 0 24 24\" xmlns=\"http://www.w3.org/2000/svg\"><path d=\"m22 9.24-7.19-.62L12 2 9.19 8.63 2 9.24l5.46 4.73L5.82 21 12 17.27 18.18 21l-1.63-7.03zM12 15.4l-3.76 2.27 1-4.28-3.32-2.88 4.38-.38L12 6.1l1.71 4.04 4.38.38-3.32 2.88 1 4.28z\"></path></svg></div></button></div></span> </div></div></div></section></li>\n",
      "Error extracting article: 'NoneType' object has no attribute 'find'\n",
      "<li class=\"stream-item story-item yf-1drgw5l\"><section class=\"container sz-xx-large optimizedStream yf-1jsv3x8 responsive rev showMobileThumbnails\" data-testid=\"storyitem\" role=\"article\"><a aria-label=\"Analyst Report: Adobe Inc.\" class=\"subtle-link fin-size-small thumb yf-17w8w6\" data-rapid_p=\"175\" data-ylk=\"elm:img;elmt:link;itc:0;ct:story;slk:Analyst%20Report%3A%20Adobe%20Inc.;sec:news-stream;subsec:fltrd-strs;cpos:15;g:002ef56a-28aa-38a6-9b21-d5ecbfa3edbe\" href=\"https://finance.yahoo.com/research/reports/MS_0P0000005M_AnalystReport_1749783595000?yptr=yahoo&amp;ncid=yahooproperties_plusresear_nm5q6ze1cei\" title=\"Analyst Report: Adobe Inc.\"><div style=\"display: contents; --border-radius: var(--border-radius-m); --aspect-ratio: 16/9;\"><img alt=\"Analyst Report: Adobe Inc.\" class=\"tw-bg-opacity-25 yf-13q9uv1\" fetchpriority=\"auto\" loading=\"lazy\" sizes=\"12.125rem\" src=\"https://s.yimg.com/uu/api/res/1.2/T0vKR8.UUSwF3s8pOO5fnA--~B/aD0wO3c9MDthcHBpZD15dGFjaHlvbg--/https://s.yimg.com/uc/fin/img/non-sub-report-thumb.png.cf.webp\"/></div> </a> <div class=\"content yf-1jsv3x8\"><a aria-label=\"Analyst Report: Adobe Inc.\" class=\"subtle-link fin-size-small titles noUnderline yf-17w8w6\" data-rapid_p=\"176\" data-ylk=\"elm:hdln;elmt:link;itc:0;ct:story;slk:Analyst%20Report%3A%20Adobe%20Inc.;sec:news-stream;subsec:fltrd-strs;cpos:15;g:002ef56a-28aa-38a6-9b21-d5ecbfa3edbe\" href=\"https://finance.yahoo.com/research/reports/MS_0P0000005M_AnalystReport_1749783595000?yptr=yahoo&amp;ncid=yahooproperties_plusresear_nm5q6ze1cei\" title=\"Analyst Report: Adobe Inc.\"><h3 class=\"clamp yf-1jsv3x8\">Analyst Report: Adobe Inc.</h3> </a> <div class=\"footer yf-1jsv3x8\"> <div class=\"publishing yf-1weyqlp\">Morningstar Research <i aria-hidden=\"true\">•</i> 6 hours ago</div> <div class=\"taxonomy-links yf-13tszyc\"><span class=\"ticker-wrapper yf-1jsynna has-follow\"><a aria-label=\"ADBE\" class=\"ticker x-small hover2 border has-follow streaming yf-1jsynna\" data-rapid_p=\"177\" data-testid=\"ticker-container\" data-ylk=\"elm:qte;elmt:link;itc:0;sec:news-stream;slk:ADBE;subsec:fltrd-strs;cpos:15\" href=\"/quote/ADBE/\" title=\"ADBE\"> <div class=\"name yf-1jsynna\"><span class=\"symbol yf-1jsynna\">ADBE </span> </div> <fin-streamer active=\"\" class=\"percentChange yf-1jsynna\" data-field=\"regularMarketChangePercent\" data-pricehint=\"2\" data-symbol=\"ADBE\" data-trend=\"txt\" data-tstyle=\"default\"><span class=\"d60f3b00 c4af00a5\">+0.20%</span></fin-streamer> </a> <div class=\"follow yf-1jsynna\"> <div class=\"menuContainer follow-btn yf-33jgs4\" style=\"                    \"><button aria-controls=\"menu-76\" aria-haspopup=\"true\" aria-label=\"Follow\" class=\"link-btn fin-size-x-small menuBtn rounded yf-y8kifl\" data-rapid_p=\"178\" data-testid=\"add-to-following\" data-ylk=\"elmt:ticker;itc:1;cid:ADBE;elm:intent-follow;sec:news-following;slk:menu-open;ticker:ADBE\" dialogalignleftvalue=\"-175px\" title=\"Follow\"> <div aria-hidden=\"true\" class=\"icon fin-icon secondary-icn sz-medium yf-9qlxtu\"><svg viewbox=\"0 0 24 24\" xmlns=\"http://www.w3.org/2000/svg\"><path d=\"m22 9.24-7.19-.62L12 2 9.19 8.63 2 9.24l5.46 4.73L5.82 21 12 17.27 18.18 21l-1.63-7.03zM12 15.4l-3.76 2.27 1-4.28-3.32-2.88 4.38-.38L12 6.1l1.71 4.04 4.38.38-3.32 2.88 1 4.28z\"></path></svg></div></button> <div aria-hidden=\"true\" aria-label=\"\" class=\"dialog-container yf-33jgs4\" id=\"menu-76\" popover=\"manual\"></div></div> <dialog aria-label=\"\" class=\"no-bb yf-1e59yx3 modal\" role=\"alertdialog\"></dialog></div></span> </div></div></div></section></li>\n",
      "Error extracting article: 'NoneType' object has no attribute 'find'\n",
      "<li class=\"stream-item story-item yf-1drgw5l\"><section class=\"container sz-xx-large optimizedStream yf-1jsv3x8 responsive rev showMobileThumbnails\" data-testid=\"storyitem\" role=\"article\"><a aria-label=\"Analyst Report: Wipro Limited\" class=\"subtle-link fin-size-small thumb yf-17w8w6\" data-rapid_p=\"203\" data-ylk=\"elm:img;elmt:link;itc:0;ct:story;slk:Analyst%20Report%3A%20Wipro%20Limited;sec:news-stream;subsec:fltrd-strs;cpos:22;g:a683adce-8b14-3b41-aa18-864764d7a9ab\" href=\"https://finance.yahoo.com/research/reports/MS_0P000005Z3_AnalystReport_1749775796000?yptr=yahoo&amp;ncid=yahooproperties_plusresear_nm5q6ze1cei\" title=\"Analyst Report: Wipro Limited\"><div style=\"display: contents; --border-radius: var(--border-radius-m); --aspect-ratio: 16/9;\"><img alt=\"Analyst Report: Wipro Limited\" class=\"tw-bg-opacity-25 yf-13q9uv1\" fetchpriority=\"auto\" loading=\"lazy\" sizes=\"12.125rem\" src=\"https://s.yimg.com/uu/api/res/1.2/T0vKR8.UUSwF3s8pOO5fnA--~B/aD0wO3c9MDthcHBpZD15dGFjaHlvbg--/https://s.yimg.com/uc/fin/img/non-sub-report-thumb.png.cf.webp\"/></div> </a> <div class=\"content yf-1jsv3x8\"><a aria-label=\"Analyst Report: Wipro Limited\" class=\"subtle-link fin-size-small titles noUnderline yf-17w8w6\" data-rapid_p=\"204\" data-ylk=\"elm:hdln;elmt:link;itc:0;ct:story;slk:Analyst%20Report%3A%20Wipro%20Limited;sec:news-stream;subsec:fltrd-strs;cpos:22;g:a683adce-8b14-3b41-aa18-864764d7a9ab\" href=\"https://finance.yahoo.com/research/reports/MS_0P000005Z3_AnalystReport_1749775796000?yptr=yahoo&amp;ncid=yahooproperties_plusresear_nm5q6ze1cei\" title=\"Analyst Report: Wipro Limited\"><h3 class=\"clamp yf-1jsv3x8\">Analyst Report: Wipro Limited</h3> </a> <div class=\"footer yf-1jsv3x8\"> <div class=\"publishing yf-1weyqlp\">Morningstar Research <i aria-hidden=\"true\">•</i> 8 hours ago</div> <div class=\"taxonomy-links yf-13tszyc\"><span class=\"ticker-wrapper yf-1jsynna has-follow\"><a aria-label=\"WIT\" class=\"ticker x-small hover2 border has-follow streaming yf-1jsynna\" data-rapid_p=\"205\" data-testid=\"ticker-container\" data-ylk=\"elm:qte;elmt:link;itc:0;sec:news-stream;slk:WIT;subsec:fltrd-strs;cpos:22\" href=\"/quote/WIT/\" title=\"WIT\"> <div class=\"name yf-1jsynna\"><span class=\"symbol yf-1jsynna\">WIT </span> </div> <fin-streamer active=\"\" class=\"percentChange yf-1jsynna\" data-field=\"regularMarketChangePercent\" data-pricehint=\"2\" data-symbol=\"WIT\" data-trend=\"txt\" data-tstyle=\"default\"></fin-streamer> </a> <div class=\"follow yf-1jsynna\"><div data-testid=\"lazy-render\"></div> <button aria-label=\"Follow\" class=\"placeholder-btn yf-li9b97\" data-rapid_p=\"206\" data-testid=\"follow-btn-loading\"><div aria-hidden=\"true\" class=\"icon fin-icon tertiary-icn sz-medium yf-9qlxtu\"><svg viewbox=\"0 0 24 24\" xmlns=\"http://www.w3.org/2000/svg\"><path d=\"m22 9.24-7.19-.62L12 2 9.19 8.63 2 9.24l5.46 4.73L5.82 21 12 17.27 18.18 21l-1.63-7.03zM12 15.4l-3.76 2.27 1-4.28-3.32-2.88 4.38-.38L12 6.1l1.71 4.04 4.38.38-3.32 2.88 1 4.28z\"></path></svg></div></button></div></span> </div></div></div></section></li>\n",
      "Error extracting article: 'NoneType' object has no attribute 'find'\n",
      "<li class=\"stream-item story-item yf-1drgw5l\"><section class=\"container sz-xx-large optimizedStream yf-1jsv3x8 responsive rev showMobileThumbnails\" data-testid=\"storyitem\" role=\"article\"><a aria-label=\"Analyst Report: Itaú Unibanco Holding S.A.\" class=\"subtle-link fin-size-small thumb yf-17w8w6\" data-rapid_p=\"231\" data-ylk=\"elm:img;elmt:link;itc:0;ct:story;slk:Analyst%20Report%3A%20Ita%C3%BA%20Unibanco%20Holding%20S.A.;sec:news-stream;subsec:fltrd-strs;cpos:30;g:5dd48df2-42ab-33e0-84c6-a9fb8ac59f28\" href=\"https://finance.yahoo.com/research/reports/MS_0P000000OZ_AnalystReport_1749775660000?yptr=yahoo&amp;ncid=yahooproperties_plusresear_nm5q6ze1cei\" title=\"Analyst Report: Itaú Unibanco Holding S.A.\"><div style=\"display: contents; --border-radius: var(--border-radius-m); --aspect-ratio: 16/9;\"><img alt=\"Analyst Report: Itaú Unibanco Holding S.A.\" class=\"tw-bg-opacity-25 yf-13q9uv1\" fetchpriority=\"auto\" loading=\"lazy\" sizes=\"12.125rem\" src=\"https://s.yimg.com/uu/api/res/1.2/T0vKR8.UUSwF3s8pOO5fnA--~B/aD0wO3c9MDthcHBpZD15dGFjaHlvbg--/https://s.yimg.com/uc/fin/img/non-sub-report-thumb.png.cf.webp\"/></div> </a> <div class=\"content yf-1jsv3x8\"><a aria-label=\"Analyst Report: Itaú Unibanco Holding S.A.\" class=\"subtle-link fin-size-small titles noUnderline yf-17w8w6\" data-rapid_p=\"232\" data-ylk=\"elm:hdln;elmt:link;itc:0;ct:story;slk:Analyst%20Report%3A%20Ita%C3%BA%20Unibanco%20Holding%20S.A.;sec:news-stream;subsec:fltrd-strs;cpos:30;g:5dd48df2-42ab-33e0-84c6-a9fb8ac59f28\" href=\"https://finance.yahoo.com/research/reports/MS_0P000000OZ_AnalystReport_1749775660000?yptr=yahoo&amp;ncid=yahooproperties_plusresear_nm5q6ze1cei\" title=\"Analyst Report: Itaú Unibanco Holding S.A.\"><h3 class=\"clamp yf-1jsv3x8\">Analyst Report: Itaú Unibanco Holding S.A.</h3> </a> <div class=\"footer yf-1jsv3x8\"> <div class=\"publishing yf-1weyqlp\">Morningstar Research <i aria-hidden=\"true\">•</i> 8 hours ago</div> <div class=\"taxonomy-links yf-13tszyc\"><span class=\"ticker-wrapper yf-1jsynna has-follow\"><a aria-label=\"ITUB\" class=\"ticker x-small hover2 border has-follow streaming yf-1jsynna\" data-rapid_p=\"233\" data-testid=\"ticker-container\" data-ylk=\"elm:qte;elmt:link;itc:0;sec:news-stream;slk:ITUB;subsec:fltrd-strs;cpos:30\" href=\"/quote/ITUB/\" title=\"ITUB\"> <div class=\"name yf-1jsynna\"><span class=\"symbol yf-1jsynna\">ITUB </span> </div> <fin-streamer active=\"\" class=\"percentChange yf-1jsynna\" data-field=\"regularMarketChangePercent\" data-pricehint=\"2\" data-symbol=\"ITUB\" data-trend=\"txt\" data-tstyle=\"default\"></fin-streamer> </a> <div class=\"follow yf-1jsynna\"> <div class=\"menuContainer follow-btn yf-33jgs4\" style=\"                    \"><button aria-controls=\"menu-86\" aria-haspopup=\"true\" aria-label=\"Follow\" class=\"link-btn fin-size-x-small menuBtn rounded yf-y8kifl\" data-rapid_p=\"234\" data-testid=\"add-to-following\" data-ylk=\"elmt:ticker;itc:1;cid:ITUB;elm:intent-follow;sec:news-following;slk:menu-open;ticker:ITUB\" dialogalignleftvalue=\"-175px\" title=\"Follow\"> <div aria-hidden=\"true\" class=\"icon fin-icon secondary-icn sz-medium yf-9qlxtu\"><svg viewbox=\"0 0 24 24\" xmlns=\"http://www.w3.org/2000/svg\"><path d=\"m22 9.24-7.19-.62L12 2 9.19 8.63 2 9.24l5.46 4.73L5.82 21 12 17.27 18.18 21l-1.63-7.03zM12 15.4l-3.76 2.27 1-4.28-3.32-2.88 4.38-.38L12 6.1l1.71 4.04 4.38.38-3.32 2.88 1 4.28z\"></path></svg></div></button> <div aria-hidden=\"true\" aria-label=\"\" class=\"dialog-container yf-33jgs4\" id=\"menu-86\" popover=\"manual\"></div></div> <dialog aria-label=\"\" class=\"no-bb yf-1e59yx3 modal\" role=\"alertdialog\"></dialog></div></span> </div></div></div></section></li>\n",
      "Error extracting article: 'NoneType' object has no attribute 'find'\n",
      "<li class=\"stream-item story-item yf-1drgw5l\"><section class=\"container sz-xx-large optimizedStream yf-1jsv3x8 responsive rev showMobileThumbnails\" data-testid=\"storyitem\" role=\"article\"><a aria-label=\"Analyst Report: GSK plc\" class=\"subtle-link fin-size-small thumb yf-17w8w6\" data-rapid_p=\"259\" data-v9y=\"1\" data-ylk=\"elm:img;elmt:link;itc:0;ct:story;slk:Analyst%20Report%3A%20GSK%20plc;sec:news-stream;subsec:fltrd-strs;cpos:37;g:a8323903-69a6-3333-b9fc-c941901b74bf\" href=\"https://finance.yahoo.com/research/reports/MS_0P000002FO_AnalystReport_1749775557000?yptr=yahoo&amp;ncid=yahooproperties_plusresear_nm5q6ze1cei\" title=\"Analyst Report: GSK plc\"><div style=\"display: contents; --border-radius: var(--border-radius-m); --aspect-ratio: 16/9;\"><img alt=\"Analyst Report: GSK plc\" class=\"tw-bg-opacity-25 yf-13q9uv1\" fetchpriority=\"auto\" loading=\"lazy\" sizes=\"12.125rem\" src=\"https://s.yimg.com/uu/api/res/1.2/T0vKR8.UUSwF3s8pOO5fnA--~B/aD0wO3c9MDthcHBpZD15dGFjaHlvbg--/https://s.yimg.com/uc/fin/img/non-sub-report-thumb.png.cf.webp\"/></div> </a> <div class=\"content yf-1jsv3x8\"><a aria-label=\"Analyst Report: GSK plc\" class=\"subtle-link fin-size-small titles noUnderline yf-17w8w6\" data-rapid_p=\"260\" data-v9y=\"1\" data-ylk=\"elm:hdln;elmt:link;itc:0;ct:story;slk:Analyst%20Report%3A%20GSK%20plc;sec:news-stream;subsec:fltrd-strs;cpos:37;g:a8323903-69a6-3333-b9fc-c941901b74bf\" href=\"https://finance.yahoo.com/research/reports/MS_0P000002FO_AnalystReport_1749775557000?yptr=yahoo&amp;ncid=yahooproperties_plusresear_nm5q6ze1cei\" title=\"Analyst Report: GSK plc\"><h3 class=\"clamp yf-1jsv3x8\">Analyst Report: GSK plc</h3> </a> <div class=\"footer yf-1jsv3x8\"> <div class=\"publishing yf-1weyqlp\">Morningstar Research <i aria-hidden=\"true\">•</i> 8 hours ago</div> <div class=\"taxonomy-links yf-13tszyc\"><span class=\"ticker-wrapper yf-1jsynna has-follow\"><a aria-label=\"GLAXF\" class=\"ticker x-small hover2 border has-follow streaming yf-1jsynna\" data-rapid_p=\"261\" data-testid=\"ticker-container\" data-v9y=\"1\" data-ylk=\"elm:qte;elmt:link;itc:0;sec:news-stream;slk:GLAXF;subsec:fltrd-strs;cpos:37\" href=\"/quote/GLAXF/\" title=\"GLAXF\"> <div class=\"name yf-1jsynna\"><span class=\"symbol yf-1jsynna\">GLAXF </span> </div> <fin-streamer active=\"\" class=\"percentChange yf-1jsynna\" data-field=\"regularMarketChangePercent\" data-pricehint=\"2\" data-symbol=\"GLAXF\" data-trend=\"txt\" data-tstyle=\"default\"><span class=\"d60f3b00\">0.00%</span></fin-streamer> </a> <div class=\"follow yf-1jsynna\"> <div class=\"menuContainer follow-btn yf-33jgs4\" style=\"                    \"><button aria-controls=\"menu-12\" aria-haspopup=\"true\" aria-label=\"Follow\" class=\"link-btn fin-size-x-small menuBtn rounded yf-y8kifl\" data-rapid_p=\"262\" data-testid=\"add-to-following\" data-v9y=\"1\" data-ylk=\"elmt:ticker;itc:1;cid:GLAXF;elm:intent-follow;sec:news-following;slk:menu-open;ticker:GLAXF\" dialogalignleftvalue=\"-175px\" title=\"Follow\"> <div aria-hidden=\"true\" class=\"icon fin-icon secondary-icn sz-medium yf-9qlxtu\"><svg viewbox=\"0 0 24 24\" xmlns=\"http://www.w3.org/2000/svg\"><path d=\"m22 9.24-7.19-.62L12 2 9.19 8.63 2 9.24l5.46 4.73L5.82 21 12 17.27 18.18 21l-1.63-7.03zM12 15.4l-3.76 2.27 1-4.28-3.32-2.88 4.38-.38L12 6.1l1.71 4.04 4.38.38-3.32 2.88 1 4.28z\"></path></svg></div></button> <div aria-hidden=\"true\" aria-label=\"\" class=\"dialog-container yf-33jgs4\" id=\"menu-12\" popover=\"manual\"></div></div> <dialog aria-label=\"\" class=\"no-bb yf-1e59yx3 modal\" role=\"alertdialog\"></dialog></div></span><span class=\"ticker-wrapper yf-1jsynna has-follow\"><a aria-label=\"GSK\" class=\"ticker x-small hover2 border has-follow streaming yf-1jsynna\" data-rapid_p=\"263\" data-testid=\"ticker-container\" data-v9y=\"1\" data-ylk=\"elm:qte;elmt:link;itc:0;sec:news-stream;slk:GSK;subsec:fltrd-strs;cpos:37\" href=\"/quote/GSK/\" title=\"GSK\"> <div class=\"name yf-1jsynna\"><span class=\"symbol yf-1jsynna\">GSK </span> </div> <fin-streamer active=\"\" class=\"percentChange yf-1jsynna\" data-field=\"regularMarketChangePercent\" data-pricehint=\"2\" data-symbol=\"GSK\" data-trend=\"txt\" data-tstyle=\"default\"><span class=\"d60f3b00 c4af00a5\">+2.09%</span></fin-streamer> </a> <div class=\"follow yf-1jsynna\"> <div class=\"menuContainer follow-btn yf-33jgs4\" style=\"                    \"><button aria-controls=\"menu-3\" aria-haspopup=\"true\" aria-label=\"Follow\" class=\"link-btn fin-size-x-small menuBtn rounded yf-y8kifl\" data-rapid_p=\"264\" data-testid=\"add-to-following\" data-v9y=\"1\" data-ylk=\"elmt:ticker;itc:1;cid:GSK;elm:intent-follow;sec:news-following;slk:menu-open;ticker:GSK\" dialogalignleftvalue=\"-175px\" title=\"Follow\"> <div aria-hidden=\"true\" class=\"icon fin-icon secondary-icn sz-medium yf-9qlxtu\"><svg viewbox=\"0 0 24 24\" xmlns=\"http://www.w3.org/2000/svg\"><path d=\"m22 9.24-7.19-.62L12 2 9.19 8.63 2 9.24l5.46 4.73L5.82 21 12 17.27 18.18 21l-1.63-7.03zM12 15.4l-3.76 2.27 1-4.28-3.32-2.88 4.38-.38L12 6.1l1.71 4.04 4.38.38-3.32 2.88 1 4.28z\"></path></svg></div></button> <div aria-hidden=\"true\" aria-label=\"\" class=\"dialog-container yf-33jgs4\" id=\"menu-3\" popover=\"manual\"></div></div> <dialog aria-label=\"\" class=\"no-bb yf-1e59yx3 modal\" role=\"alertdialog\"></dialog></div></span> </div></div></div></section></li>\n"
     ]
    },
    {
     "name": "stderr",
     "output_type": "stream",
     "text": [
      "C:\\Users\\dsygn\\AppData\\Local\\Temp\\ipykernel_57212\\4242752305.py:64: UserWarning: Could not infer format, so each element will be parsed individually, falling back to `dateutil`. To ensure parsing is consistent and as-expected, please specify a format.\n",
      "  yf_df['Date'] = pd.to_datetime(yf_df['Date'], errors='coerce')\n",
      "C:\\Users\\dsygn\\AppData\\Local\\Temp\\ipykernel_57212\\4242752305.py:64: FutureWarning: In a future version of pandas, parsing datetimes with mixed time zones will raise an error unless `utc=True`. Please specify `utc=True` to opt in to the new behaviour and silence this warning. To create a `Series` with mixed offsets and `object` dtype, please use `apply` and `datetime.datetime.strptime`\n",
      "  yf_df['Date'] = pd.to_datetime(yf_df['Date'], errors='coerce')\n"
     ]
    }
   ],
   "source": [
    "from bs4 import BeautifulSoup\n",
    "import pandas as pd\n",
    "import time\n",
    "import pandas as pd\n",
    "from selenium import webdriver\n",
    "from selenium.webdriver.chrome.service import Service\n",
    "from selenium.webdriver.chrome.options import Options\n",
    "from webdriver_manager.chrome import ChromeDriverManager\n",
    "from bs4 import BeautifulSoup\n",
    "\n",
    "def yf_extract_info(item):\n",
    "    link=item.find('a',class_='subtle-link')['href']\n",
    "    title=item.find('a',class_='subtle-link')['title']\n",
    "\n",
    "    chrome_options = Options()\n",
    "    chrome_options.add_argument(\"--headless\")  # Run in headless mode\n",
    "    chrome_options.add_argument(\"--disable-gpu\")  # Disable GPU acceleration\n",
    "\n",
    "    page_driver = webdriver.Chrome(service=Service(ChromeDriverManager().install()), options=chrome_options)\n",
    "    page_driver.get(link)\n",
    "\n",
    "    page_soup = BeautifulSoup(page_driver.page_source, 'html.parser')\n",
    "    content = page_soup.find('div', class_='body')\n",
    "    content_text = content.text.strip() if content else ''\n",
    "    date= page_soup.find('div', class_= 'byline').find('time')\n",
    "    data_point = {'Date': date.text.strip() if date else 'N/A', 'Content': 'Title:' + title + '\\nArticle:' + content_text}\n",
    "    page_driver.quit()\n",
    "    return data_point\n",
    "\n",
    "def get_yf_articles(URL):\n",
    "\n",
    "    chrome_options = Options()\n",
    "    chrome_options.add_argument(\"--headless\")  # Run in headless mode\n",
    "    chrome_options.add_argument(\"--disable-gpu\")  # Disable GPU acceleration\n",
    "    \n",
    "    driver = webdriver.Chrome(service=Service(ChromeDriverManager().install()), options=chrome_options)\n",
    "    driver.get(URL)\n",
    "\n",
    "    time.sleep(2)\n",
    "\n",
    "    last_height = driver.execute_script(\"return document.body.scrollHeight\")\n",
    "    while True:\n",
    "        driver.execute_script(\"window.scrollTo(0, document.body.scrollHeight);\")\n",
    "        time.sleep(2)  # Wait for new content to load\n",
    "        new_height = driver.execute_script(\"return document.body.scrollHeight\")\n",
    "        if new_height == last_height:\n",
    "            break\n",
    "        last_height = new_height\n",
    "    soup = BeautifulSoup(driver.page_source, 'html.parser')\n",
    "    articles = soup.find_all('li', class_='story-item')\n",
    "    news_data = []\n",
    "    for article in articles:\n",
    "        try:\n",
    "            news_data.append(yf_extract_info(article))\n",
    "        except Exception as e:\n",
    "            print(f\"Error extracting article: {e}\")\n",
    "            print(article)\n",
    "            continue\n",
    "    driver.quit()\n",
    "    return pd.DataFrame(news_data)\n",
    "\n",
    "URL=\"https://finance.yahoo.com/news/\"\n",
    "yf_df=get_yf_articles(URL)\n",
    "yf_df['Date'] = pd.to_datetime(yf_df['Date'], errors='coerce')\n",
    "yf_df.to_csv('yahoo_finance_articles.csv', index=False)"
   ]
  }
 ],
 "metadata": {
  "kernelspec": {
   "display_name": "pytorch_gpu",
   "language": "python",
   "name": "python3"
  },
  "language_info": {
   "codemirror_mode": {
    "name": "ipython",
    "version": 3
   },
   "file_extension": ".py",
   "mimetype": "text/x-python",
   "name": "python",
   "nbconvert_exporter": "python",
   "pygments_lexer": "ipython3",
   "version": "3.13.2"
  }
 },
 "nbformat": 4,
 "nbformat_minor": 5
}
