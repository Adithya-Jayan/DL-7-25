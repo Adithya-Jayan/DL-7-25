{
 "cells": [
  {
   "cell_type": "markdown",
   "id": "50ef8b21",
   "metadata": {},
   "source": [
    "## Flow to extract the main topic from a sentence.\n",
    "\n",
    "References:\n",
    "\n",
    "> [Structured Entity Extraction Using Large Language Models](https://arxiv.org/pdf/2402.04437v3)\n",
    "\n",
    "> [Simple topic extraction](https://medium.com/analytics-vidhya/fun-with-topic-extraction-8aa11e0437d0)\n",
    "\n",
    "> [Effective sentence-level relation extraction model using entity-centric dependency tree](https://peerj.com/articles/cs-2311/)\n",
    "\n",
    "> [Universal sentence encoder based intent representation](https://medium.com/webknossos/enhancing-intent-classification-with-the-universal-sentence-encoder-ecbcd7a3005c)"
   ]
  },
  {
   "cell_type": "code",
   "execution_count": 3,
   "id": "d85f07d3",
   "metadata": {},
   "outputs": [],
   "source": [
    "# Install required packages for first run. \n",
    "# %pip install tensorflow_hub #Uncomment to install if needed."
   ]
  },
  {
   "cell_type": "code",
   "execution_count": 7,
   "id": "7dd29839",
   "metadata": {},
   "outputs": [],
   "source": [
    "#Import necessary packages.\n",
    "import tensorflow_hub as hub\n",
    "import tensorflow as tf"
   ]
  },
  {
   "cell_type": "code",
   "execution_count": 8,
   "id": "0ca6cedc",
   "metadata": {},
   "outputs": [],
   "source": [
    "# Example sentences (Just some random news headlines)\n",
    "sentences = [\n",
    "    \"Air India crash LIVE | 'On highest alert, all rescue teams mobilised,' says Civil Aviation Minister\",\n",
    "    \"Israel Gave Patriot Missiles To Ukraine? Bibi's 'Panic Call' To Putin After Diplomat's Big Reveal\",\n",
    "    \"Epic Games Files Lawsuit Against Fortnite Cheat Developer.\"\n",
    "]"
   ]
  },
  {
   "cell_type": "code",
   "execution_count": null,
   "id": "b3dd1166",
   "metadata": {},
   "outputs": [],
   "source": [
    "#Simple topic extraction\n"
   ]
  },
  {
   "cell_type": "code",
   "execution_count": null,
   "id": "b3742dfb",
   "metadata": {},
   "outputs": [],
   "source": [
    "#universal encoder based:\n",
    "\n",
    "# Load the Universal Sentence Encoder model\n",
    "model_url = \"https://tfhub.dev/google/universal-sentence-encoder/4\"\n",
    "embed = hub.load(model_url)\n",
    "\n",
    "# Generate embeddings\n",
    "embeddings = embed(sentences)\n",
    "\n",
    "# Display embeddings\n",
    "for i, sentence in enumerate(sentences):\n",
    "    print(f\"Sentence: {sentence}\")\n",
    "    print(f\"Embedding: {embeddings[i][:5]}...\")  # Display first 5 dimensions for brevity\n"
   ]
  },
  {
   "cell_type": "code",
   "execution_count": null,
   "id": "bace57e6",
   "metadata": {},
   "outputs": [],
   "source": []
  }
 ],
 "metadata": {
  "kernelspec": {
   "display_name": "MLEnvt_Python38",
   "language": "python",
   "name": "python3"
  },
  "language_info": {
   "codemirror_mode": {
    "name": "ipython",
    "version": 3
   },
   "file_extension": ".py",
   "mimetype": "text/x-python",
   "name": "python",
   "nbconvert_exporter": "python",
   "pygments_lexer": "ipython3",
   "version": "3.8.16"
  }
 },
 "nbformat": 4,
 "nbformat_minor": 5
}
