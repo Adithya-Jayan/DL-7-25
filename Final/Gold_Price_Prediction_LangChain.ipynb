{
 "cells": [
  {
   "cell_type": "code",
   "execution_count": null,
   "id": "c8d18d05",
   "metadata": {},
   "outputs": [],
   "source": [
    "# This script installs all required libraries for data analysis, plotting, LLM workflows, and notebook imports.\n",
    "\n",
    "# pandas: Data manipulation and analysis\n",
    "# numpy: Numerical computations\n",
    "# matplotlib: Data visualization\n",
    "# yfinance: Downloading financial data from Yahoo Finance\n",
    "# langchain: Building LLM-powered applications and chains\n",
    "# import_ipynb: Importing Jupyter notebooks as Python modules\n",
    "# scipy: Scientific computing (e.g., signal processing)\n",
    "# statsmodels: Statistical modeling and time series analysis\n",
    "# xgboost: Gradient boosting for machine learning\n",
    "# scikit-learn: Machine learning utilities (train/test split, etc.)\n",
    "\n",
    "%pip install pandas numpy matplotlib yfinance langchain import_ipynb scipy statsmodels xgboost scikit-learn"
   ]
  },
  {
   "cell_type": "code",
   "execution_count": 8,
   "id": "bdb411c3",
   "metadata": {},
   "outputs": [],
   "source": [
    "import os\n",
    "import copy\n",
    "# -------------------------------------------------------------------------\n",
    "#  LangChain Imports\n",
    "# -------------------------------------------------------------------------\n",
    "from langchain.chains import SequentialChain, LLMChain\n",
    "from langchain.prompts import PromptTemplate\n",
    "from langchain.llms import OpenAI  # Replace with any LLM provider\n",
    "from langchain.output_parsers import RegexParser\n",
    "# -------------------------------------------------------------------------\n",
    "# GOLD_ETF Imports\n",
    "# -------------------------------------------------------------------------\n",
    "from Jaison.GOLD_ETF_functions import *\n",
    "from Tarun.Gold_Price_TS_Model import *\n"
   ]
  },
  {
   "cell_type": "code",
   "execution_count": 9,
   "id": "1b3460e4",
   "metadata": {},
   "outputs": [
    {
     "name": "stdout",
     "output_type": "stream",
     "text": [
      "Predicted gold price for 2025-06-20: 82.56724627377722\n",
      "Next day percentage change: -0.24%\n"
     ]
    }
   ],
   "source": [
    "import statsmodels.api as sm\n",
    "import numpy as np\n",
    "\n",
    "# Load the pre-trained ARIMAX model\n",
    "arimax_model = sm.load_pickle('Jaison/Model/Arimax/arimax_2025-06-19.pkl')\n",
    "# --------------------------------------------------------------------\n",
    "# Example sentiment score for testing\n",
    "news_sentiment = 0  # Example sentiment score\n",
    "# --------------------------------------------------------------------\n",
    "# Predict gold price using the loaded ARIMAX model and existing news_sentiment\n",
    "predicted_price, next_day_pct_change, next_day = arimax_gold_price_prediction(news_sentiment, arimax_model)\n",
    "\n",
    "print(f\"Predicted gold price for {next_day.strftime('%Y-%m-%d')}: {predicted_price}\")\n",
    "print(f\"Next day percentage change: {next_day_pct_change:.2f}%\")\n",
    "# --------------------------------------------------------------------"
   ]
  },
  {
   "cell_type": "code",
   "execution_count": null,
   "id": "83e85623",
   "metadata": {},
   "outputs": [],
   "source": [
    "## News Data Download and Preprocessing\n",
    "## Import the libraries"
   ]
  },
  {
   "cell_type": "code",
   "execution_count": null,
   "id": "520cb705",
   "metadata": {},
   "outputs": [],
   "source": [
    "## News data sentiment analysis using LLM"
   ]
  },
  {
   "cell_type": "code",
   "execution_count": null,
   "id": "fedb069f",
   "metadata": {},
   "outputs": [],
   "source": [
    "# Dummy block to combine price data and news data prediction output\n",
    "\n",
    "# Assume price_pred and news_pred are prediction outputs from previous steps\n",
    "# For demonstration, we'll create dummy values\n",
    "price_pred = 1800  # Example: predicted gold price from price model\n",
    "news_pred = 10     # Example: sentiment score or predicted impact from news model\n",
    "\n",
    "# Combine predictions (simple weighted sum as a placeholder)\n",
    "final_price_output = 0.7 * price_pred + 0.3 * news_pred\n",
    "\n",
    "print(f\"Final predicted gold price: {final_price_output}\")"
   ]
  }
 ],
 "metadata": {
  "kernelspec": {
   "display_name": "Python 3",
   "language": "python",
   "name": "python3"
  },
  "language_info": {
   "codemirror_mode": {
    "name": "ipython",
    "version": 3
   },
   "file_extension": ".py",
   "mimetype": "text/x-python",
   "name": "python",
   "nbconvert_exporter": "python",
   "pygments_lexer": "ipython3",
   "version": "3.13.5"
  }
 },
 "nbformat": 4,
 "nbformat_minor": 5
}
