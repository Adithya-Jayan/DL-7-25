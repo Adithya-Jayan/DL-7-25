{
 "cells": [
  {
   "cell_type": "markdown",
   "id": "d168dd0f",
   "metadata": {},
   "source": [
    "# Final model training script:\n",
    "Please run Combine_data_with_gold_price.ipynb to get the final processed and annotated data file.\n",
    "'Final\\adithya\\Data\\combined_dataset_with_price_change.csv'\n",
    "before running this script."
   ]
  },
  {
   "cell_type": "markdown",
   "id": "81441b4b",
   "metadata": {},
   "source": [
    "### Import necessary libraries"
   ]
  },
  {
   "cell_type": "code",
   "execution_count": 1,
   "id": "d54ae064",
   "metadata": {},
   "outputs": [],
   "source": [
    "import pandas as pd\n",
    "from torch.utils.data import DataLoader, random_split\n",
    "import numpy as np\n",
    "import torch\n",
    "import torch.nn as nn\n",
    "from tqdm import notebook as tqdm\n",
    "import torch.optim as optim\n",
    "from torch.utils.tensorboard import SummaryWriter\n",
    "import shutil\n",
    "import os\n",
    "import matplotlib.pyplot as plt\n",
    "from IPython.display import clear_output, display\n"
   ]
  },
  {
   "cell_type": "code",
   "execution_count": 2,
   "id": "60c5822e",
   "metadata": {},
   "outputs": [],
   "source": [
    "#Import our defined classes and functions\n",
    "from modules import NewsDataset, SetTransformer , VariableSetDataset\n",
    "from functions import group_into_variable_sets, load_checkpoint"
   ]
  },
  {
   "cell_type": "markdown",
   "id": "0a6c1f83",
   "metadata": {},
   "source": [
    "### Read the dataset."
   ]
  },
  {
   "cell_type": "code",
   "execution_count": null,
   "id": "30b6a69b",
   "metadata": {},
   "outputs": [],
   "source": [
    "# df = pd.read_csv(\"../Data/combined_dataset_with_price_change.csv\",index_col=0)\n",
    "\n",
    "# Load\n",
    "df = pd.read_pickle('../Data/combined_dataset_with_price_change.pkl')\n",
    "print(\"Number of rows in df:\",df.shape)\n",
    "df.head()"
   ]
  },
  {
   "cell_type": "markdown",
   "id": "14d7ccb5",
   "metadata": {},
   "source": [
    "### Initialize the dataloader and model"
   ]
  },
  {
   "cell_type": "code",
   "execution_count": null,
   "id": "9ace979a",
   "metadata": {},
   "outputs": [],
   "source": [
    "#Some settings\n",
    "batch_size = 50\n",
    "articles_per_day = 10"
   ]
  },
  {
   "cell_type": "code",
   "execution_count": null,
   "id": "74530117",
   "metadata": {},
   "outputs": [],
   "source": [
    "#Group input data into sets for use in model.\n",
    "encodings, price_changes, masks = group_into_variable_sets(df)\n"
   ]
  },
  {
   "cell_type": "code",
   "execution_count": null,
   "id": "a66799e7",
   "metadata": {},
   "outputs": [],
   "source": [
    "print(encodings.shape,price_changes.shape,masks.shape)"
   ]
  },
  {
   "cell_type": "code",
   "execution_count": null,
   "id": "51912f4c",
   "metadata": {},
   "outputs": [],
   "source": [
    "dataset = VariableSetDataset(encodings, price_changes, masks)\n",
    "\n",
    "# Calculate split sizes\n",
    "total_size = len(dataset)\n",
    "train_size = int(0.8 * total_size)\n",
    "test_size = total_size - train_size\n",
    "\n",
    "# Split the dataset\n",
    "train_dataset, test_dataset = random_split(\n",
    "    dataset, \n",
    "    [train_size, test_size],\n",
    "    generator=torch.Generator().manual_seed(42)  # For reproducibility\n",
    ")\n",
    "\n",
    "# Create data loaders\n",
    "train_loader = DataLoader(train_dataset, batch_size=batch_size, shuffle=True)\n",
    "test_loader = DataLoader(test_dataset, batch_size=batch_size, shuffle=False)"
   ]
  },
  {
   "cell_type": "code",
   "execution_count": null,
   "id": "90f03443",
   "metadata": {},
   "outputs": [],
   "source": [
    "model = SetTransformer(\n",
    "    dim_input = 512, \n",
    "    num_outputs = 1, #One final prediction\n",
    "    dim_output = 1, #1D output for price change\n",
    "    num_inds=32, \n",
    "    dim_hidden=128, \n",
    "    num_heads=4, \n",
    "    ln=True #Layer normalization\n",
    "    )\n",
    "\n",
    "optimizer = torch.optim.Adam(model.parameters(), lr=0.001)\n",
    "criterion = nn.MSELoss()\n",
    "\n",
    "# Move model to GPU if available\n",
    "device = torch.device('cuda' if torch.cuda.is_available() else 'cpu')\n",
    "model = model.to(device)"
   ]
  },
  {
   "cell_type": "code",
   "execution_count": null,
   "id": "3d189a14",
   "metadata": {},
   "outputs": [],
   "source": [
    "#Comment this cell if you don't have the package installed\n",
    "from torchsummary import summary\n",
    "print(summary(model,(1, 10, 512)))"
   ]
  },
  {
   "cell_type": "code",
   "execution_count": null,
   "id": "d32bfcfc",
   "metadata": {},
   "outputs": [],
   "source": [
    "#Remove old runs data.\n",
    "if os.path.exists('runs') and os.path.isdir('runs'):\n",
    "    for item in os.listdir('runs'):\n",
    "        item_path = os.path.join('runs', item)\n",
    "        if os.path.isfile(item_path):\n",
    "            os.remove(item_path)  # Remove file\n",
    "        else:\n",
    "            shutil.rmtree(item_path)  # Remove subdirectory"
   ]
  },
  {
   "cell_type": "code",
   "execution_count": null,
   "id": "59156b12",
   "metadata": {},
   "outputs": [],
   "source": [
    "# Initialize TensorBoard writer\n",
    "writer = SummaryWriter()"
   ]
  },
  {
   "cell_type": "code",
   "execution_count": null,
   "id": "21d96a29",
   "metadata": {},
   "outputs": [],
   "source": [
    "# After running this cell, visit http://localhost:6006 on your browser to visualize the training process.\n",
    "%load_ext tensorboard \n",
    "# %reload_ext tensorboard"
   ]
  },
  {
   "cell_type": "code",
   "execution_count": null,
   "id": "626b0995",
   "metadata": {},
   "outputs": [],
   "source": [
    "#Run this in your terminal separately to visualize the training process live\n",
    "%tensorboard --logdir=runs --reload_interval=30 --host=127.0.0.1 #Autoreload every 30s"
   ]
  },
  {
   "cell_type": "code",
   "execution_count": null,
   "id": "35dcfb80",
   "metadata": {},
   "outputs": [],
   "source": [
    "plt.ioff()  # Turn off interactive mode initially\n",
    "train_losses = []\n",
    "val_losses = []\n",
    "epochs_list = []\n",
    "val_epochs_list = []\n",
    "\n",
    "# Training loop\n",
    "num_epochs = 10\n",
    "pbar = tqdm.tqdm(range(num_epochs), desc=\"Training Progress\", unit=\"epoch\")\n",
    "\n",
    "avg_loss = 0.0\n",
    "avg_val_loss = 0.0\n",
    "\n",
    "for epoch in pbar:\n",
    "    model.train()\n",
    "    losses = []\n",
    "    \n",
    "    for batch_idx, (inps, outs, masks) in enumerate(train_loader):\n",
    "        inps = inps.to(device)\n",
    "        outs = outs.to(device)\n",
    "        masks = masks.to(device)\n",
    "        \n",
    "        preds = model(inps,mask= masks)\n",
    "        if preds.dim() > 1:\n",
    "            preds = preds.squeeze()\n",
    "        if outs.dim() > 1:\n",
    "            outs = outs.squeeze()\n",
    "        \n",
    "        loss = criterion(preds, outs)\n",
    "        \n",
    "        optimizer.zero_grad()\n",
    "        loss.backward()\n",
    "        optimizer.step()\n",
    "        \n",
    "        losses.append(loss.item())\n",
    "    \n",
    "    avg_loss = np.mean(losses)\n",
    "    train_losses.append(avg_loss)\n",
    "    epochs_list.append(epoch)\n",
    "    \n",
    "    writer.add_scalar('Loss/train', avg_loss, epoch)\n",
    "    \n",
    "    # Validation every 5 epochs\n",
    "    if epoch % 5 == 0:\n",
    "        model.eval()\n",
    "        val_losses_temp = []\n",
    "        \n",
    "        with torch.no_grad():\n",
    "            for inps, outs, masks in test_loader:\n",
    "                inps = inps.to(device)\n",
    "                outs = outs.to(device)\n",
    "                masks = masks.to(device)\n",
    "\n",
    "                \n",
    "                preds = model(inps,mask = masks)\n",
    "                if preds.dim() > 1:\n",
    "                    preds = preds.squeeze()\n",
    "                if outs.dim() > 1:\n",
    "                    outs = outs.squeeze()\n",
    "                \n",
    "                loss = criterion(preds, outs)\n",
    "                val_losses_temp.append(loss.item())\n",
    "        \n",
    "        avg_val_loss = np.mean(val_losses_temp)\n",
    "        val_losses.append(avg_val_loss)\n",
    "        val_epochs_list.append(epoch)\n",
    "        \n",
    "        writer.add_scalar('Loss/validation', avg_val_loss, epoch)\n",
    "    \n",
    "    # Update plot every 10 epochs\n",
    "    if epoch % 1 == 0:\n",
    "        clear_output(wait=True)\n",
    "        \n",
    "        plt.figure(figsize=(12, 6))\n",
    "        plt.plot(epochs_list, train_losses, 'b-', label='Training Loss', alpha=0.8, linewidth=2)\n",
    "        if val_losses:\n",
    "            plt.plot(val_epochs_list, val_losses, 'r-', label='Validation Loss', \n",
    "                    alpha=0.8, marker='o', linewidth=2, markersize=6)\n",
    "        \n",
    "        plt.xlabel('Epoch', fontsize=12)\n",
    "        plt.ylabel('Loss', fontsize=12)\n",
    "        plt.title('Training and Validation Loss (Live Update)', fontsize=14)\n",
    "        plt.legend(fontsize=12)\n",
    "        plt.grid(True, alpha=0.3)\n",
    "        plt.tight_layout()\n",
    "        plt.show()\n",
    "    \n",
    "    pbar.set_postfix({'loss': f'{avg_loss:.4f}', 'val_loss': f'{avg_val_loss:.4f}'})"
   ]
  },
  {
   "cell_type": "code",
   "execution_count": null,
   "id": "fcaec0b1",
   "metadata": {},
   "outputs": [],
   "source": [
    "# Save the model checkpoint\n",
    "final_checkpoint = {\n",
    "    'model_state_dict': model.state_dict(),\n",
    "    'optimizer_state_dict': optimizer.state_dict(),\n",
    "    'epoch': num_epochs,\n",
    "    'loss': avg_loss,\n",
    "    'val_loss': avg_val_loss\n",
    "}\n",
    "torch.save(final_checkpoint, 'FinalModel/final_model.pth')"
   ]
  },
  {
   "cell_type": "markdown",
   "id": "ff452a4a",
   "metadata": {},
   "source": [
    "## Load and use model [Run library import then continue from here]"
   ]
  },
  {
   "cell_type": "code",
   "execution_count": 3,
   "id": "f47d30b3",
   "metadata": {},
   "outputs": [],
   "source": [
    "model = SetTransformer(\n",
    "    dim_input = 512, \n",
    "    num_outputs = 1, #One final prediction\n",
    "    dim_output = 1, #1D output for price change\n",
    "    num_inds=32, \n",
    "    dim_hidden=128, \n",
    "    num_heads=4, \n",
    "    ln=True #Layer normalization\n",
    "    )\n",
    "\n",
    "optimizer = torch.optim.Adam(model.parameters(), lr=0.001)\n",
    "criterion = nn.MSELoss()\n",
    "\n",
    "# Move model to GPU if available\n",
    "device = torch.device('cuda' if torch.cuda.is_available() else 'cpu')\n",
    "model = model.to(device)"
   ]
  },
  {
   "cell_type": "code",
   "execution_count": 4,
   "id": "c6cc2ea7",
   "metadata": {},
   "outputs": [
    {
     "name": "stdout",
     "output_type": "stream",
     "text": [
      "Model loaded from FinalModel/final_model.pth at epoch 10 with loss 0.4513\n"
     ]
    }
   ],
   "source": [
    "# Load the model from the checkpoint\n",
    "checkpoint_path = 'FinalModel/final_model.pth'\n",
    "if os.path.exists(checkpoint_path):\n",
    "    start_epoch, start_loss ,model, optimizer = load_checkpoint(checkpoint_path, model, optimizer,device)\n",
    "    print(f\"Model loaded from {checkpoint_path} at epoch {start_epoch} with loss {start_loss:.4f}\")\n",
    "else:\n",
    "    start_epoch, start_loss = 0, float('inf')\n",
    "    print(f\"No checkpoint found at {checkpoint_path}. Starting from scratch.\")"
   ]
  },
  {
   "cell_type": "markdown",
   "id": "f90d3fdb",
   "metadata": {},
   "source": [
    "#### Test call example"
   ]
  },
  {
   "cell_type": "code",
   "execution_count": 5,
   "id": "c78457ea",
   "metadata": {},
   "outputs": [
    {
     "data": {
      "text/plain": [
       "SetTransformer(\n",
       "  (enc1): ISAB(\n",
       "    (mab0): MAB(\n",
       "      (fc_q): Linear(in_features=128, out_features=128, bias=True)\n",
       "      (fc_k): Linear(in_features=512, out_features=128, bias=True)\n",
       "      (fc_v): Linear(in_features=512, out_features=128, bias=True)\n",
       "      (ln0): LayerNorm((128,), eps=1e-05, elementwise_affine=True)\n",
       "      (ln1): LayerNorm((128,), eps=1e-05, elementwise_affine=True)\n",
       "      (fc_o): Linear(in_features=128, out_features=128, bias=True)\n",
       "    )\n",
       "    (mab1): MAB(\n",
       "      (fc_q): Linear(in_features=512, out_features=128, bias=True)\n",
       "      (fc_k): Linear(in_features=128, out_features=128, bias=True)\n",
       "      (fc_v): Linear(in_features=128, out_features=128, bias=True)\n",
       "      (ln0): LayerNorm((128,), eps=1e-05, elementwise_affine=True)\n",
       "      (ln1): LayerNorm((128,), eps=1e-05, elementwise_affine=True)\n",
       "      (fc_o): Linear(in_features=128, out_features=128, bias=True)\n",
       "    )\n",
       "  )\n",
       "  (enc2): ISAB(\n",
       "    (mab0): MAB(\n",
       "      (fc_q): Linear(in_features=128, out_features=128, bias=True)\n",
       "      (fc_k): Linear(in_features=128, out_features=128, bias=True)\n",
       "      (fc_v): Linear(in_features=128, out_features=128, bias=True)\n",
       "      (ln0): LayerNorm((128,), eps=1e-05, elementwise_affine=True)\n",
       "      (ln1): LayerNorm((128,), eps=1e-05, elementwise_affine=True)\n",
       "      (fc_o): Linear(in_features=128, out_features=128, bias=True)\n",
       "    )\n",
       "    (mab1): MAB(\n",
       "      (fc_q): Linear(in_features=128, out_features=128, bias=True)\n",
       "      (fc_k): Linear(in_features=128, out_features=128, bias=True)\n",
       "      (fc_v): Linear(in_features=128, out_features=128, bias=True)\n",
       "      (ln0): LayerNorm((128,), eps=1e-05, elementwise_affine=True)\n",
       "      (ln1): LayerNorm((128,), eps=1e-05, elementwise_affine=True)\n",
       "      (fc_o): Linear(in_features=128, out_features=128, bias=True)\n",
       "    )\n",
       "  )\n",
       "  (dec1): PMA(\n",
       "    (mab): MAB(\n",
       "      (fc_q): Linear(in_features=128, out_features=128, bias=True)\n",
       "      (fc_k): Linear(in_features=128, out_features=128, bias=True)\n",
       "      (fc_v): Linear(in_features=128, out_features=128, bias=True)\n",
       "      (ln0): LayerNorm((128,), eps=1e-05, elementwise_affine=True)\n",
       "      (ln1): LayerNorm((128,), eps=1e-05, elementwise_affine=True)\n",
       "      (fc_o): Linear(in_features=128, out_features=128, bias=True)\n",
       "    )\n",
       "  )\n",
       "  (dec2): SAB(\n",
       "    (mab): MAB(\n",
       "      (fc_q): Linear(in_features=128, out_features=128, bias=True)\n",
       "      (fc_k): Linear(in_features=128, out_features=128, bias=True)\n",
       "      (fc_v): Linear(in_features=128, out_features=128, bias=True)\n",
       "      (ln0): LayerNorm((128,), eps=1e-05, elementwise_affine=True)\n",
       "      (ln1): LayerNorm((128,), eps=1e-05, elementwise_affine=True)\n",
       "      (fc_o): Linear(in_features=128, out_features=128, bias=True)\n",
       "    )\n",
       "  )\n",
       "  (dec3): SAB(\n",
       "    (mab): MAB(\n",
       "      (fc_q): Linear(in_features=128, out_features=128, bias=True)\n",
       "      (fc_k): Linear(in_features=128, out_features=128, bias=True)\n",
       "      (fc_v): Linear(in_features=128, out_features=128, bias=True)\n",
       "      (ln0): LayerNorm((128,), eps=1e-05, elementwise_affine=True)\n",
       "      (ln1): LayerNorm((128,), eps=1e-05, elementwise_affine=True)\n",
       "      (fc_o): Linear(in_features=128, out_features=128, bias=True)\n",
       "    )\n",
       "  )\n",
       "  (final_layer): Linear(in_features=128, out_features=1, bias=True)\n",
       ")"
      ]
     },
     "execution_count": 5,
     "metadata": {},
     "output_type": "execute_result"
    }
   ],
   "source": [
    "model.eval()"
   ]
  },
  {
   "cell_type": "code",
   "execution_count": 6,
   "id": "d9dc28f0",
   "metadata": {},
   "outputs": [
    {
     "name": "stdout",
     "output_type": "stream",
     "text": [
      "torch.Size([1, 10, 512]) torch.Size([1, 10])\n",
      "The predicted price is:  tensor([[[-0.0255]]], device='cuda:0', grad_fn=<ViewBackward0>)\n"
     ]
    }
   ],
   "source": [
    "#Say 10 articles were present for today\n",
    "inputs = np.random.rand(1, 10, 512).astype(np.float32)\n",
    "masks = np.ones((1,10)).astype(np.float32)\n",
    "\n",
    "\n",
    "inputs = torch.tensor(inputs, dtype=torch.float32).to(device=device)\n",
    "masks = torch.tensor(masks, dtype=torch.float32).to(device=device)\n",
    "\n",
    "print(inputs.shape, masks.shape)\n",
    "preds = model(inputs,mask= masks)\n",
    "\n",
    "print(\"The predicted price is: \",preds)"
   ]
  },
  {
   "cell_type": "markdown",
   "id": "954f4a1a",
   "metadata": {},
   "source": [
    "### Evaluate model"
   ]
  },
  {
   "cell_type": "code",
   "execution_count": 14,
   "id": "25df18e6",
   "metadata": {},
   "outputs": [
    {
     "name": "stderr",
     "output_type": "stream",
     "text": [
      "c:\\Users\\adith\\anaconda3\\envs\\MLEnvt_Python38\\lib\\site-packages\\transformers\\utils\\generic.py:441: UserWarning: torch.utils._pytree._register_pytree_node is deprecated. Please use torch.utils._pytree.register_pytree_node instead.\n",
      "  _torch_pytree._register_pytree_node(\n"
     ]
    }
   ],
   "source": [
    "import sys \n",
    "\n",
    "parent_dir = os.path.abspath(os.path.join('./','..'))\n",
    "sys.path.insert(0, parent_dir)\n",
    "\n",
    "from Tarun.modules.functions import predict_sentiment, preprocess_dataset, generate_topic_encodings,get_sentiment_combined_encodings,group_into_variable_sets"
   ]
  },
  {
   "cell_type": "code",
   "execution_count": 15,
   "id": "893d4cc9",
   "metadata": {},
   "outputs": [
    {
     "data": {
      "application/vnd.microsoft.datawrangler.viewer.v0+json": {
       "columns": [
        {
         "name": "index",
         "rawType": "int64",
         "type": "integer"
        },
        {
         "name": "Date",
         "rawType": "object",
         "type": "string"
        },
        {
         "name": "Content",
         "rawType": "object",
         "type": "string"
        },
        {
         "name": "Label",
         "rawType": "int64",
         "type": "integer"
        }
       ],
       "ref": "fb782ed3-de57-45e9-bb77-49c317073ec1",
       "rows": [
        [
         "0",
         "2023-10-03",
         "the silver investor index held above 50.0 mark for the second month running in september, edging 0.5 points higher to 50.7 as the number of buyers fell 10.5% towards july's 4.5-year low but the number of sellers also dropped, down 22.9% to the fewest since february. as with investment gold bullion, the more industrially useful precious metal edged higher for uk and euro investors, but silver prices failed to spike to multi-month highs as gold did.",
         "2"
        ],
        [
         "1",
         "2023-10-03",
         "while gold has retreated from the record highs reached on this spring's mini-crisis in us banking, and while prices have fallen hard over the past week, september marked gold's 9th highest monthly average ever in us dollar terms, the 5th in uk pounds, and the 3rd highest for euro investors. the underlying strength in gold prices, plus rising interest rates on bonds and cash, continues to invite profit-taking among existing holders at the same as deterring new demand. this is likely to remain the picture until interest rates turn lower and/or the damage from today's high borrowing costs – the highest in 2 decades on the us fed's overnight rate – suddenly becomes plain, spurring a rush for gold as investment insurance once again. as it is meantime, last month's selling on bullionvault saw investors as a group record their first net outflow of gold by weight since march, trimming 265 kilograms (0.6%) from august's month-end record gold holdings – the 3rd all-time high in a row – to reach 47.9 tonnes, the lowest since april. private investors also sold more silver in september than they bought as a group, cutting their holdings at bullionvault by 4.2 tonnes (0.3%) to 1,240 tonnes, the smallest in 15 months and 2.1% below last october's record peak silver holdings.",
         "2"
        ],
        [
         "2",
         "2023-10-03",
         "gold bullion finds fewest buyers in 4 years article:past week's gold price drop stems investor selling... gold bullion found the fewest buyers in more than 4 years in september, with investors as a group cutting their holdings for the first time since march, writes adrian ash at bullionvault, the largest marketplace for private investors to buy and trade physical precious metals. that came as interest rates on cash continued to rise and strong prices in euro and uk terms spurred profit-taking. it's taken the past week's near-5% price plunge to stem that profit-taking. new gold investing demand looks unlikely to jump until something breaks in the wider financial markets. the gold investor index tracks the number of people buying across each month against the number of people choosing to sell. it fell 2.0 points in september to 52.2, the weakest reading in 6 months but rallying last week from an interim reading of 50.7 as gold prices dropped sharply. even so, the number of people choosing to buy gold fell by 20.2% from the month before, hitting its lowest count since june 2019, while the numbers selling rose by the same proportion. the gold investor index set a decade high of 65.9 in march 2020 as the covid pandemic and lockdowns crashed the global economy. a reading below 50.0 would signal more gold sellers than buyers among bullionvault users.",
         "2"
        ],
        [
         "3",
         "2023-10-07",
         "not to question. the thing we call wall street is an entity that wants to keep you stupid. stupid and satisfied. warm froggies in a pot set to medium. it'll eventually boil. that said, a market bounce now can come about if the recently spiking gold/silver ratio and recently steepening yield curves ease in the near-term, as we've been anticipating. but they and other indicators have made their initial moves. i believe any broad rally resumption will have a shelf life. the commoditized herds will take the bait again but likely not observe the warnings beneath the surface (for my part, i am collecting interest on cash, which is my overwhelmingly largest position, after covering some shorts in precious metals and broad indexes, and am lightly playing a bounce with favored stocks, including quality gold stocks). back on the macro, it is super important that the bond market has signaled an end to the way business was done for decades. said business was done by an all knowing, all controlling entity that is today going in the other direction. but is your financial advisor? probably not. what about your wharton educated active manager? maybe, but probably not. education can equal orthodoxy, which can be another way of saying \"stay in line, obey!\" many of the best and brightest were bred by decades of a trend now broken. a re-education of sorts from the cautious yet open minded thinking abilities that many humans are born with. okay, time for more imagery.",
         "2"
        ],
        [
         "4",
         "2023-10-07",
         "treasuries, gold and guy debord article:the society of the spectacle, 2023 edition... this is a financial market article that also delves into social commentary, says gary tanashian in his notes from the rabbit hole. the new macro, as exemplified by the 30-year treasury bond yield surging higher, will bring change; both social and financial. the two are, of course, related. here we do not come to firm conclusions, and so perhaps the article does not get picked up by some re-publishers. but in a time of change, i believe that the process of interpretation is more important than forming conclusions, just yet. conclusions will be handled by trend followers, promoters and gurus, as they have been for decades. as for strategically operating in the markets, we (nftrh, its subscribers and myself) are managing them quite well, in part because we are looking into the spectacle of modern society and the markets it encompasses and seeing the lies, bromides, falsehoods, promotions and outright grift within. but mostly we observe macro trends that have been broken, in service to being among the few that adapt to the changes promptly and successfully. because we shall not be human commodities. when i was much younger, i was already dissatisfied with the automation and commoditization of human life (my main peeve being the relentlessness and omnipresence of the ad man).",
         "2"
        ],
        [
         "5",
         "2023-10-07",
         "with things of little real importance replacing sound ideals on what seemed like a mass scale, i felt very alone in my angst. most people seemed not to mind the constant barrage and stoopidification of america. then i had occasion to visit the institute of contemporary art in boston to see an installation featuring the situationist international (si). it was not art. it was pure social commentary and it blew me away, probably because i was already going down that road at the time and it was nice to have my bias reinforced. :-) you can get a summary of the si at wiki, but an important aspect of their view is summed up per si member guy debord's society of the spectacle (sos): \"debord traces the development of a modern society in which authentic social life has been replaced with its representation: 'all that once was directly lived has become mere representation.' debord argues that the history of social life can be understood as 'the decline of being into having, and having into merely appearing.' this condition, according to debord, is the 'historical moment at which the commodity completes its colonization of social life.' sos was written in 1967 by a man born in 1931. things are exponentially worse now in a culture going full cartoon commodity, as one look at what america is obsessed with, or more to the point, what the ad man wants america to be obsessed with, will bear out. sure, it's fine to like entertainment. i like various forms of it (and abhor many others).",
         "2"
        ],
        [
         "6",
         "2023-10-07",
         "but it's important to remain conscious, otherwise you are no longer rowdy roddy piper (rest in peace) but instead, well, you know... buy. consume. marry and reproduce. conform. accept that the taylor swift and travis kelce hype is worth even 2 seconds of your time. buy. live. reproduce... rowdy roddy piper (on the current state of things): \"just when they think they got the answers, i change the questions.\" what, you expected \"i have come here to chew bubble gum and kick ass, and i'm all out of bubble gum.\"? the subject of automated thinking by a large proportion of the citizenry is relevant to the financial markets and in particular, this moment in time in the financial markets. why this particular moment in time instead of all those moments in time that alarmists have noted for years and decades? because something changed in a profound manner and is no longer in place as it was over those decades. but it's a pretty good bet that a vast majority of public market participants – when they can pull themselves away from the swift/kelce theatrics or our ever more cartoonish political arena (both sides of the aisle) for a moment – are still mentally riding the trend that ended in 2022. they have been riding the gentle downtrend of long-term treasury bond yields and its pleasantly disinflationary signaling over decades dating back to the 1980s. multitudes of market participants were not even born at the start of this trend. multitudes have been tended and bred to obey the rules.",
         "2"
        ],
        [
         "7",
         "2023-10-07",
         "my edit of the formerly all powerful, all controlling federal reserve. why formerly? well, i can guarantee you that this bond market rebellion and the most recent inflation problem that spurred it on was not anticipated by our dear leaders. don't take my word for it, take the word of the eggheads themselves: \"transitory\" transi friggin' tory! they used that word until they could use it no more lest they be completely discredited and debunked, even by the mainstream. referring back to the 30-year bond yield, the continuum's long down slope gave the fed permission, even license to control the markets. today, due to the bond market rebellion the fed is sidelined and desperately trying to put the bond genie back in its bottle. but a trend has changed and so have the rules. our job is to effectively interpret new rules and not only abide by them, but as speculators, profit from them. so i feel confident in having felt like a social outsider my whole life, because guess what? being on the side of what was for decades the right side is not the right side anymore. if the bubble is not bursting it surely is taking on new shapes and dimensions. one important indicator of change is the fact that gold has not imploded on the state of 'real' 5 and 10 year treasury yields. historically, over the course of the continuum's decades, this condition (implying tight monetary policy) was very detrimental to the gold price.",
         "2"
        ],
        [
         "8",
         "2023-10-07",
         "if all were as it was, no way should gold be holding support and the channel bottom today, especially on a blow-out payrolls number. a deeply oversold condition and a logical support area could well be the final act of a gold-negative macro environment. it likely would not be the final act if the macro we had for decades were the macro we have today. but dear commoditized trend extrapolaters, it's a whole new ball game. there is much question as to whether the precious metals correction has ended. don't let the touts likely to emerge on this broad market relief bounce convince you otherwise. but i expect the proof to come out in the pudding, perhaps before year-end. i expect gold stocks to shine after broad markets top out and gold stocks potentially (an important word, not a prediction) take one more leg down. today the precious metals are rallying with everything else and that means they are not yet unique. one signal about when they will be unique? when gold stocks stop under-performing gold. that will come about when most of the macro stops out-performing to gold. then the miners will leverage gold's standing within the macro and quite possibly put on a laser show not unlike the one that the 30 year yield has put on. for 20 years now the miners have under-performed with the declining yield as a guide. but the macro we had is not the macro we have.",
         "2"
        ],
        [
         "9",
         "2023-10-07",
         "it's been a satisfying market to manage in the interim simply because, at the start of something new, the answers are not ready-made and information is no longer a commodity. it is a new thing altogether. we are called to the task of thinking for ourselves in order to succeed. the macro is churning out signals galore lately, including both new fundamental macro signals and interim plays in the other direction (like this week's broad bounce, which we anticipated due to index support levels and secondarily, depressed but not extreme sentiment). meanwhile, the commoditization of financial market analysis will follow its trends that no longer are. perfect.",
         "2"
        ],
        [
         "10",
         "2023-10-07",
         "asia's giant gold buying rises as biggest demand season starts article:india 'optimistic' for diwali, china 'gold craze' continues... the festive period for gold's largest consumer countries to buy the precious metal has begun with demand rising in the key markets of india and china as people take advantage of the current drop in prices. last month saw the return of 'auspicious' dates for marriages on hindu calendars after the seasonal summer shutdown, and november will bring india's peak gold-buying festival of dhanteras, the start of diwali. western gift-giving at christmas will then be followed by the run-up to chinese new year, starting on 10 february in 2024. altogether, this festive period – covering the october-to-december and january-to-march calendar quarters – has seen consumers in china and india buy 8% more gold by weight over the past 10 years than they did across the april to september period on average, according to quarterly data from specialist analysts metals focus. that extra demand rises to 15% if you exclude the exceptional years of 2013 – when a crash in global gold prices spurred record-heavy buying in the precious metal's top 2 consumer markets – and also 2020, when covid lockdowns crushed sales, from comparing q4 plus q1 against the figures for q2 plus q3.",
         "2"
        ],
        [
         "11",
         "2023-10-07",
         "having averaged a price above $1800 per troy ounce in each of these periods since q2-to-q3 2020, global bullion prices jumped to average $1950 across mid-year 2023, denting india and china's demand amid gold's typically quiet summer lull. but so far in october, global prices – as set by trading in the london bullion market – have fallen hard, down by more than $100 from that level at friday's finish as the crash in western government bond prices drives longer-term interest rates sharply higher. \"many consumers are frantically buying gold,\" reports china's national business daily, saying that the \"gold buying craze\" seen in the precious metal's no.1 consumer market ahead of the past week's mid-autumn and national day holidays \"has not fallen but risen\" according to retailers. bullion prices in shanghai jumped a record $120 per troy ounce above london's global gold price in mid-september as china's rising gold demand met restricted supply, with household jewelry and investment purchases \"running unstoppably hot\" according to the henan news channel.",
         "2"
        ],
        [
         "12",
         "2023-10-07",
         "gold's rupee rates in india are meantime showing a premium of $5 per ounce to the cost of newly-imported bullion – which includes a massive 18% in duty and tax – the highest incentive for new inflows to the no.2 gold consumer nation in 17 months according to reuters, thanks to rising demand and the lower global price. \"retail and wholesale demand is improving because of the price correction,\" the news-wire quotes one mumbai gold dealer. \"we have been witnessing good traction in the last few days.\" in china, where the world's no.1 gold-buying central bank of the last 3 years has expanded the national holdings by nearly 8% since mid-2020, \"there are now a lot of people buying investment gold bars,\" nbd quotes a gold store salesman during the golden week holidays, \"because the price has dropped a lot.\" but with china's yuan gold price previously rising sharply over the past 12 months, \"it's hard to say what the impact will be on the post-holiday sales market,\" cautions chen biao, general manager of swiss refiner metalor's chinese business. \"if the price continues to fall, it will have a greater negative impact on sentiment.",
         "2"
        ],
        [
         "13",
         "2023-10-07",
         "but otherwise, consumers may buy gold on dips in the price.\" as for india, the monsoon rainfall this year was slightly below average, says metals focus, but this is \"unlikely to impact crop output, which bodes well for india's precious metals demand, particularly jewellery consumption, as a large portion of this is concentrated in rural india.\" \"gold prices fall, retailers rejoice,\" said a headline at the times of india as the global price fall took hold last week, adding to the \"optimism\" reported among gold dealers by metals focus.",
         "2"
        ],
        [
         "14",
         "2023-10-09",
         "the people's bank of china also continues to diversify its reserves with gold, so much so that one expert believes total official gold holdings by central banks have touched a new all-time high. jan nieuwenhuijs, writing for gainesville coins, estimates that global gold reserves peaked at 38,764 tonnes in june, surpassing the previous 1965 record by as much as 400 tonnes. nieuwenhuijs's estimate, which tries to account for unreported purchases, shows a notable increase in gold holdings since the 2008 financial crisis. this reflects what he calls a \"desire by central banks the world over to diversify away from the us dollar with its ever more evident counterparty risks.\"",
         "2"
        ],
        [
         "15",
         "2023-10-09",
         "why china's buying gold article:stocks, yuan, real estate all struggling... the chinese yuan has lost nearly 6% of its value against the us dollar this year, writes frank holmes at us global investors. shanghai-listed stocks are meanwhile off about 8% from their 2023 high, set back in may. there's an ongoing property crisis, with shares of evergrande group – china's second-largest property developer and the world's most indebted – halting trading after its founder and chairman was reportedly taken into police custody for unknown reasons. against this backdrop, gold has emerged as a preferred investment alternative, acting as a hedge against financial volatility. gold prices in china have soared as a result, hitting a historic relative high with a more than $100 premium per ounce over metal prices in new york or london, according to bloomberg. data showing a 40% hike in withdrawals from the shanghai gold exchange and a 15% increase in imports in august further underscore this trend. looking ahead, analysts predict sustained demand for the yellow metal amid not just a depreciating yuan and shaky real estate market but also falling bond yields. the gold buying spree appears to represent an investment move – sales of bars and coins are up 30% compared to last year – but rising prices are also tempting jewelry buyers to make early purchases ahead of the busy lunar new year buying season. it's not just china's retail investors.",
         "2"
        ],
        [
         "16",
         "2023-10-11",
         "weaponizing migration article:the strategic manipulation of migrant flows... savvy investors are aware that geopolitical tensions and uncertainty can significantly influence the financial markets, writes frank holmes at us global investors. that includes human migration – or, to be more specific, weaponized migration. many of you, no doubt, watched elon musk's livestream of the historic us-mexico border crisis last month on x, the platform formerly known as twitter. you may also be aware of the situation that's unfolding in the mediterranean, with thousands of refugees from northern africa overwhelming italy, prompting much-needed immigration reform. both cases have raised questions about who's behind this global immigration surge. the tactic of using migrants as pawns is not new. since at least the 1950s, bad actors have employed this strategy against liberal democracies like the us and europe, which historically have tended to accept large numbers of refugees, according to kelly greenhill, author of the 2016 book weapons of mass migration: forced displacement, coercion and foreign policy. back to the us-mexico border. in august, the us customs and border protection (cbp) reported a 36% increase in migrant encounters compared to july, totaling over 180,000 apprehensions. and last month, a staggering 50,000 migrants from crisis-stricken venezuela illegally crossed the border, marking an all-time monthly record. the driving force?",
         "0"
        ],
        [
         "17",
         "2023-10-11",
         "according to the heritage foundation's daniel kochis, moscow has employed and continues to employ the weaponization of migrants to manipulate the situation in places like syria, north africa and the sahel, effectively pushing refugees toward european shores. russia isn't the only country to have used this strategy. according to judge aaron petty, an appellate immigration judge at the board of immigration appeals, belarusian leader alexander lukashenko orchestrated a crisis in 2021 by enticing thousands of migrants and asylum seekers – primarily from iraq, syria and afghanistan – to belarus and then pushing them toward the european union (eu) border, exploiting eu legislation and un treaties for asylum seekers. judge petty believes the weaponization of migrants will increase, particularly by states like china and russia. such \"gray zone\" activities, including the manipulation of population flows, are aimed at shaping the strategic environment, destabilizing rivals and achieving objectives through means just short of direct warfare. manufacturing an influx of migrants, or even just threatening to do so, has proven effective in the past in leveling the playing field with more powerful adversaries. it has created a bargaining chip and forces the engagement of targeted countries. unless policymakers address the underlying dynamics that enable weaponized migration, the use of this tactic is likely to persist and expand, judge petty says.",
         "0"
        ],
        [
         "18",
         "2023-10-11",
         "beyond immediate socio-economic and political crises, deeper geopolitical manipulations may be at play. the mexican government, for instance, has initiated a program to bus immigrants from the southern part of mexico toward the usa. mexican president andres manuel lopez obrador recently stated that around 10,000 people were reaching the border every day. across the atlantic, europe – and southern europe in particular – faces parallel challenges. between january and july 2023, the continent saw a significant increase in arrivals of refugees and migrants, totaling over 120,000 individuals, primarily through the mediterranean and northwest african maritime routes. this marked a 77% rise compared to the same period the previous year. the italian island of lampedusa has seen an overwhelming surge in migrant boats. on september 15 alone, some 7,000 people landed on the island, doubling its population and prompting local authorities to declare a state of emergency. this brought the total number of arrivals in italy to nearly 126,000 in 2023, making it a significant political issue. as for the boats that migrants used to make the journey from north africa to italy, many appear to be expensive, high-end speedboats and other such vessels, clueing some observers in to the possibility that this sort of activity is being engineered to destabilize western governments. some immigration experts suspect that russia could be behind the current crisis.",
         "0"
        ],
        [
         "19",
         "2023-10-11",
         "as always, i recommend a 10% weighting in gold, with 5% in physical bullion and jewelry, the other 5% in high-quality gold mining mutual funds and etfs.",
         "0"
        ],
        [
         "20",
         "2023-10-11",
         "that's precisely what european policymakers are seeking to do. this month, eu diplomats reached a consensus on immigration policy reforms, following the resolution of a dispute between italy and germany over non-governmental organizations (ngos) operating in the mediterranean. the aim of these reforms is to enable eu states to respond in a unified manner to significant increases in asylum-seekers. a pivotal element of the agreement proposes the redistribution of migrants from countries with high influxes, like italy and greece, to other eu nations. countries that opt out of hosting asylum-seekers would be obligated to financially compensate those that do. for investors, this is a sign that europe is keenly aware of the risks and is looking to mitigate them. a stable europe means a more predictable investment environment, especially in industries like tourism, real estate and manufacturing. the bigger question remains: will the us follow suit? the ongoing challenges at the us-mexico border, combined with weaponized migration's growing prominence as a tool, mean that us policy decisions in the coming months will be crucial. for investors, this means staying informed, agile and ready to adapt. government policy is a precursor to change, after all, and it's important to be prepared for sudden policy shifts. it's also wise to diversify investments across sectors and regions, hedging against potential disruptions such as weaponized migration.",
         "0"
        ],
        [
         "21",
         "2023-10-12",
         "us stocks rose after pearl harbor article:but terror and destruction make stocks drop, no...? we suspected the stock market would take a fright following last weekend's terrors in israel, writes brian maher in the daily reckoning. it did not. the stock market yawned them off. why? today our thoughts turn to the sanguinary arts and sciences...and to wall street. that is, our thoughts turn to carnage, markets and how the two mingle. to what extent does warfare – or the prospect of warfare – manipulate markets? much? little? our own james altucher ransacked market history. from the second world war clear through the tumults of sept. 11, 2001, james stretched it all upon his canvas...rolled his sleeves, spat upon his hands...and got working. his purpose: to determine the impact of potentially systemic shocks on markets. james identified 10 such potential hells and their dates. the most conspicuous among them were: the commencement of world war ii (sept. 1, 1939)... pearl harbor (consult a book if you must)... the cuban missile crisis (oct. 22, 1962)... sept. 11 itself. james recorded the s&p's activity the day before the shock...the day after the shock...and its panicked low the week following the shock. he then inspected the s&p one week later, one month later and six months later. his conclusion? \"each time, the market has absorbed the shock and moved past the event.\" that is correct. the stock market took the blow and plowed on.",
         "2"
        ],
        [
         "22",
         "2023-10-12",
         "when herr hitler blitzkrieged poland on sept. 1, 1939 – no average day – the us market largely shrugged its shoulders...as if it was an average day. the s&p took a slip. it found a shallow bottom merely days after. it proceeded higher for the next six months...as if the kraut soldaten were tourists on holiday...taking in the pleasant sights of europe. why weren't markets fleeing in headlong retreat – along with europe? the federal reserve had yet to assume the role of stock market guardian and savior. only in recent decades has it taken up that high and solemn duty. we cannot therefore credit the federal reserve for the stock market's steadfastness. next we come to pearl harbor and its dec. 7 japanese visitation... it is true, the market took a good stagger after pearl harbor. and the s&p proceeded lower into january 1942. yet it was up and punching shortly thereafter. it remained up and punching for the war's duration. the s&p opened each year higher than the previous year – until 1946. of course comes the objection: stocks were up and away on the prospects of ultimate allied victory. just so. yet the s&p had found its legs in january 1942. what was occurring in january 1942? in january 1942 japan was trouncing the american navy and the germans were amok in europe. that is what was occurring in january 1942. the war tide only swung america's way after the battle of midway in june 1942 – several months after the market tide swung wall street's way.",
         "2"
        ],
        [
         "23",
         "2023-10-12",
         "but to proceed, what about october 1962 and its famous missiles? did the nuclear brinkmanship traumatize stocks as it traumatized people? it was – after all – a very near-run thing. never had the world stood so precariously upon the devil's shovel. yet it did not traumatize the stock market. after a brief fright the s&p went whistling on, merry as a grig, carefree as a bird. it saw the doomsday clock flashing 11:59 a.m. – not 11:59 p.m. \"what is most interesting is the ferocity with which the market rallied in only a few months,\" says james. the market spent the following three decades mocking armageddon. james: the party started in 1962 and continued for the next seven years, resulting in the biggest bull market in history until the 1990s. finally we come to sept. 11, 2001. the very date makes an icicle of our spine. we were within direct eyesight of the world trade center that morning...and gazed in horror as its clone towers went heaping down. markets were shuttered that entire week. they traded down heavily upon reopening. yet one month later, the s&p was a mere 15 points from its sept. 10 closing. six months after the evil day the s&p was 73 points above its sept. 10 closing. many credited the silent hand of the plunge protection team, so-called. it is formally the president's working group on financial markets. its purpose is to stretch a safety net across the canyons of wall street...and arrest the plunging stock market before its encounter with pavement.",
         "2"
        ],
        [
         "24",
         "2023-10-12",
         "through executive order president ronald reagan fanned the thing into existence in 1988 – heavily in response to 1987's \"black monday\" plunge. but the stock market bounced several stories higher for the next six months – a period during which enron toppled, incidentally. the plunge protection team may interrupt a plunge. but can it send the plungee vaulting higher for six months? a net is not a springboard. james' study concluded before 2008. thus the ensuing travails never came under his bifocals. of course, the federal reserve's cosmic money-conjuring after 2008 – and again from 2020-2022 – likely negates all comparison to pre-crisis events. you have apples and you have oranges. were you aware that since january 2020...the federal reserve manufactured some 80% of all dollars in current existence? it is true. how many of them went piling into stocks? we hazard the number is handsome. prior to 1988 at least, the stock market largely went along on its own steam. not entirely perhaps. yet largely. what are we to conclude? if james is correct, market shocks may prove less shocking than feared. from whom: \"the nation has nevertheless undergone shocks to the system that we have survived and will continue to survive.\" we cannot dispute the first point. and we are consoled by the second point. yet given the enormity of current financial and monetary arrangements...we cannot put away the suspicion that this system may not withstand the next shock.",
         "2"
        ],
        [
         "25",
         "2023-10-12",
         "by our own admission, we yanked the same alarm in 2008. and in 1987. and in 2001. and in 2020. each time our alarms proved false. the financial and economic systems absorbed the blows. the financial and economic system may well absorb the next blow. yet the thing squats upon a foundation constructed increasingly of sand. and only a fool erects a house on sand.",
         "2"
        ],
        [
         "26",
         "2023-10-15",
         "as to 'why' the chart's trend relationship between the hui/gold ratio and the yield may prove bullish for gold miners, since gold is proven to out-perform the miners during inflationary phases, what might happen when the macro flips the other way? if our view (that the current disinflationary goldilocks trade will morph into a liquidity-constrained deflation scare before the next inflation phase) is correct, gold stocks should out-perform when the yield normalizes (pulls back)? probably not the minute that yields obviously top and drop (inflationist bugs will be unloading, after all), but eventually the miners will grind out a bull market (or more accurately, continue the highly volatile one in place since 2016) that few will expect. i don't expect the old downtrend in the yield to reemerge, but a hard drop amid deflationary pressure would benefit the miners in relation to gold. it's not just a chart telling us that. it's the fact that gold has under-performed inflated commodities and markets since 2020 and often over the last 20 (inflationary) years, as the miners leveraged its under-performance (as pictured in the hui/gold ratio). leverage works both ways. but most will not expect it to work in a positive way because herds were well tended by previous macro trends. think of the big spike in the yield as a handle. the end.",
         "0"
        ],
        [
         "27",
         "2023-10-15",
         "while there is no particular rhyme or reason for the hui/gold ratio to have tracked the 30-year treasury bond yield 'continuum' on any given interim phase (and it has not done so), over the last 20 years the downtrend in long-term yields has coincided with a downtrend in the gold miners vs. the monetary metal they dig out of the earth. in other words, the yield has coincided with the hui/gold ratio. with many (but not all) upside pings of the blue line on the chart above, the 30-year treasury yield indicated inflationary pressure running hot and thus, a bad time to be getting bullish on gold mining. need any further proof that sources touting inflation as a reason to buy gold stocks are wrong? gold mining stocks have routinely been impaired during the long inflation cycle. the continuum is nothing if not a picture of a long disinflationary trend in bond market signaling that, especially since the 2001-2003 time frame, while the likes of ben bernanke really put the process on steroids, alan greenspan was regarded as a trailblazer in inflationary policy-making. he birthed the age of inflation ondemand, with little regard for sound practices and much regard for the asset owner classes. bernanke simply took the playbook and ran with it (to hero status). together they launched and tended the 20 year phase of inflationary policy-making masked as heroism. bernanke may have been \"the hero\", but greenspan was the \"maestro\", was he not?",
         "0"
        ],
        [
         "28",
         "2023-10-15",
         "new macro, new gold stock bull article:compare the hui/gold ratio to 30-year yields... gold stocks are rallying in the short-term, but the real move may still be ahead, writes gary tanashian in his notes from the rabbit hole. this article views the gold stock sector's big picture bullish situation from the standpoint of a single indicator, the hui/gold ratio and its relationship to the 30-year treasury bond yield. on the shorter-term and without going into tactical detail in a public post, the gold stock sector will either continue bouncing to end the correction that has been in force since the spring or it will take a final plunge. a final shakeout that could come amid vastly improved or improving fundamentals. as of the end of q3 those fundamentals had not improved. they had degraded. indeed, we reviewed both the technical and fundamental situations in a trade log & notes for nftrh subscribers last week, and have been tracking each routinely in weekend reports. we will be present and accounted for when the time is right to pound the table because nftrh is committed to right-minded, as opposed to promotional or hopeful analysis. back on the big picture, i find views like this compelling.",
         "0"
        ],
        [
         "29",
         "2023-10-19",
         "deutsche bank crackerjacks jim reid and karthik nagalingam hazard that defaults in junk bonds will near 12% – their historic highs. furthermore, as barron's notes: \"the federal reserve has committed to keep interest rates 'high for longer', which should cause the us economy to weaken – and weaken highly indebted companies, leading to more defaults by these speculative-grade borrowers over the next year.\" thus these zombies are in for a good hard shellacking...or so we hazard. they are resilient, it is true – else they would not be zombies. yet they can be dispatched over the rainbow with the proper blow to the proper location. rising rates may represent that blow. we are all for it. \"death to the zombies!\" is our cry. they have worked enough wreckage as is.",
         "1"
        ],
        [
         "30",
         "2023-10-19",
         "else the central bank would be a lender of resort – not the lender of last resort. a high rate further encourages debtors to retire their debts rapidly...to shake loose the heavy burden as soon as circumstances grant. yet what does the federal reserve's actual record reveal? economist thomas m.humphrey is the author of lender of last resort: what it is, whence it came and why the fed isn't it. this fellow argues that the federal reserve turned the six mandates of sound central banking upon their heads. its perverted mandates were – and are: \"emphasis on credit (loans) as opposed to money... \"taking junk collateral... \"charging subsidy rates... \"rescuing insolvent firms too big and interconnected to fail... \"extension of loan repayment deadlines... \"no pre-announced commitment.\" thus the federal reserve took sound central banking and knocked it 180 degrees out of phase. it has warred against all six mandates – and massively against mandates 1, 2, 3, 4 and 5. it has proved incompetent at its profession. imagine a plumber who does not patch leaks but creates leaks...a doctor who does not mend bones but cracks bones...a head shrinker who does not shrink heads but expands heads. now you have the flavor of it. what nutrients are sustaining these zombies at present? the answer is largely high-yield bonds – junk bonds. they have held up to date. yet in the likely event of recession? look out.",
         "1"
        ],
        [
         "31",
         "2023-10-19",
         "interest rates would have likely gone soaring. many firms loaded to the gunwales with debt would have filed for bankruptcy under chapter 11 of united states code. the grief – though acute – would have likely proven brief. sound business with deep roots within the soil would have endured. higher interest rates would have encouraged savings...and gradually re-amassed the capital stock. from this capital stock the green shoots of future growth would have come thrusting. yet it was not to be. rather than letting the cleansing fire clear away the deadwood...the federal reserve intervened to preserve it. this it did for years under zero or near-zero interest rate policy. yet artificially low interest rates rob the future to gratify the present. they deprive the struggling saplings of their nourishment – nourishment that promises tomorrow's growth. how many future redwoods never came into being because these zombies robbed their nutrients? the answer is many. thus the federal reserve shattered the six mandates of sound central banking. these are, as summarized by wikipedia: protect the money stock instead of saving individual institutions; rescue solvent institutions only; let insolvent institutions default; charge penalty rates; require good collateral; and announce the conditions before a crisis so that the market knows exactly what to expect. a word of explanation – perhaps – on \"penalty rates\"... the central bank should charge interest rates above the market rate.",
         "1"
        ],
        [
         "32",
         "2023-10-19",
         "and the cheap credit that sustained them is no longer cheap. burrows: \"one of the key factors enabling zombie firms to survive has been the availability of cheap credit. as central banks increase interest rates in response to improving economic conditions and/or inflation, the environment that has sustained these firms has shifted dramatically. higher interest rates will lead to increased borrowing costs for these entities, potentially pushing some of them over the brink and into insolvency.\" now these zombies are on the move, destination main street: \"the persistence of zombie firms has implications beyond individual company struggles. these entities tie up resources that could otherwise be invested in more productive and innovative ventures. resources such as labor, capital and market share are effectively locked within these stagnant firms, inhibiting the overall efficiency of the economy. this phenomenon can contribute to sluggish economic growth, reduced job creation and a less dynamic business landscape.\" bloomberg has identified some 600 such creatures – or 20% of the united states' largest publicly traded entities. their very existence represents a larceny of the present and a larceny of the future. they are devouring resources that might otherwise serve productive purpose. imagine for the moment that you inhabit a sane and parallel universe. imagine that the federal reserve let economic and financial systems run their natural course following the 2008 nastiness.",
         "1"
        ],
        [
         "33",
         "2023-10-19",
         "zombie credit to die at last? article:the fed upturned sound central banking to feed zombie borrowers... today we run a warning flag up our flagpole, writes brian maher in the daily reckoning. for we have detected zombies. zombies? robert burrows of bondvigilantes.com: \"zombie firms are essentially companies that exist on borrowed time. \"they struggle to generate enough profits to cover their debt obligations, yet manage to stay afloat thanks to lenient borrowing conditions. the prolonged period of ultra-low interest rates following the 2008 financial crisis played a significant role in sustaining these firms, allowing them to refinance their debts at favorable terms. \"as a result, many of these entities have been able to continue operating, albeit with weakened balance sheets and limited growth prospects.\" these zombies exist in a sort of twilit torpor between life and death. their condition resembles a coma – yet it is not precisely a coma. it is more a guttering along...in a reduced, scarcely comatose existence. yet they refuse to die the death. they can scare up sufficient credit to keep the grim reaper and the devil at arm's distance. thus they are zombies...neither alive nor dead...both alive and dead. they acquired their bizarre existence during the era of zero interest rates and infinite credit. cheap, nearly cost-free credit sustained them. they got while the getting was good. yet the getting is no longer good. interest rates have soared high above zero.",
         "1"
        ],
        [
         "34",
         "2023-10-20",
         "big bitcoin fake-out article:how reading the news can hurt your trading... some market pundits are convinced stocks are gearing up for a big year-end rally in stocks, writes greg guenther in addison wiggin's daily reckoning. other prognosticators see nothing but doom and gloom on the horizon – along with a major market correction. i believe there's credible evidence supporting both scenarios. but the market doesn't care what you or i (or anyone else) thinks. we could gather the world's most prominent bullish and bearish investors for a weeklong retreat to debate the merits of their arguments. yet this exercise would have no bearing on how stocks finished the year. the world is much too complex for market action to work out this way. we're always just a war, pandemic, or terrorist attack away from having to rethink just above everything we thought was true at the time. right now, the averages are stuck in a sideways struggle. it's a frustrating situation for many traders and investors since the market isn't trending higher or lower. but i believe we can put these choppy periods to good use. instead of forcing too many ill-advised trades, we've discussed some of my bigger-picture market philosophies over the past several weeks. and as the chop continues, it feels as if the action is subtly confirming the most important messages from our discussions. we have no edge in the markets. we cannot discover any magical formula that will give us an advantage over other investors.",
         "0"
        ],
        [
         "35",
         "2023-10-20",
         "once resistance is defeated, the stage is set for an extended move that can play out for days, weeks, or even longer. that’s where the real money is made.",
         "0"
        ],
        [
         "36",
         "2023-10-20",
         "accounting for slippage, i doubt it would even be possible to make a profit on a move like this. in a more likely scenario, you’d buy in the $29k range, then get stopped out minutes later as the move failed. or, even worse, you would buy and then watch your position immediately sink into the red as bitcoin reversed. as we discussed earlier, this story isn’t over yet. bitcoin did manage to slowly move higher into monday evening following the initial attempt at $30k. but i have to assume there are more than a few traders with underwater positions who attempted to play the headline. the takeaway is simple: you can’t trade the news or time your short-term buys and sells by the headlines. whether you’re tracking a planned earnings announcement or a surprise event, it’s impossible to know if the buying or selling force from the initial reaction will continue. this is also one of the main reasons i never attempt to play earnings. you never know how a stock will react – even to solid numbers. the cfo could hiccup during the conference call and send the stock down 5%. or, you might have to sit through a couple of false moves while the market attempts to sort out its final reaction to the new information. the purest breakouts in the market that are most reliable happen because of supply and demand dynamics. aggressive sellers overwhelm demand, or aggressive buyers chew through supply at critical levels.",
         "0"
        ],
        [
         "37",
         "2023-10-20",
         "a crypto twitter account with almost 2 million followers reported that the sec approved blackrock's ishares spot bitcoin etf. bitcoin was rocketing on the sec approval news. there was just one problem: no other sources seemed to be able to confirm the information. after briefly hitting $30k for the first time since august, the rally began to unwind almost as fast as it appeared. by 9:45, bitcoin was well below $28k again. forty-five minutes later, the same twitter account that initially spread the news was posting an apology: cointelegraph later revealed that they took a tip that turned out to be a fake bloomberg headline. it’s still unclear whether this was a prank or someone attempting to manipulate the market. but as far as i’m concerned, the reasons don’t matter at all… to be clear, i don’t fault the folks at cointelegraph for the sec mixup. whether the news is “real” or “fake” doesn’t really matter. what does matter is how the market reacts to the information. in this case, an extreme influx of buyers swooped in when the headline first hit social media, bullying the price of bitcoin sharply higher. but what happened to these early news reactors? i suppose some of the more savvy buyers might have set alerts that allowed them to get in minutes — or maybe even 20-30 seconds — after the news broke. but there’s no realistic chance that any random trader was able to get in at the exact moment the market started moving.",
         "0"
        ],
        [
         "38",
         "2023-10-20",
         "fundamental information has no short-term predictive power. and, most importantly, price is the most effective indicator we can use to time our buys and sells. while these concepts are relatively simple, they are far from easy to put into practice. fortunately, the markets are gracious enough to give us another chance to get it right. our best opportunities are always right around the corner, no matter how we've performed in the past. if we pay close attention and are willing to learn from our mistakes, the market will offer teaching moments we can use to get better every single day. one of these amazing teaching moments just so happens to be playing out this week. the story isn't over yet, but the initial reactions as it began to unfold tell us a lot about how markets work in real time – and how emotional investors typically react to new information. it all started early monday morning as futures were attempting to rally off their overnight lows. bitcoin was also starting to tick higher after pushing toward $28k on sunday evening. traders were on the lookout for a bounce in the tech growth and crypto following friday's ugly performance. but they had no idea what would happen next... just before the opening bell, bitcoin suddenly exploded higher. it looked like it was starting to squeeze as the price jumped from $28k to almost $30k in just a couple minutes. but after a little digging, it appeared that this potential breakout move was triggered by a social media post.",
         "0"
        ],
        [
         "39",
         "2023-10-23",
         "he was one of the most decorated officers in us naval history, with 26 personal combat decorations, including four silver stars. jim collins, author of the influential study of us businesses, 'good to great', interviewed stockdale during his research for the book. how had he found the courage to survive those long, dark years? \"i never lost faith in the end of the story,\" replied stockdale. \"i never doubted not only that i would get out, but also that i would prevail in the end and turn the experience into the defining moment of my life, which in retrospect, i would not trade.\" collins was silent for a few minutes. the two men walked along, stockdale with a heavy limp, swinging a stiff leg that had never properly recovered from repeated torture. finally, collins went on to ask another question. who didn't make it out? \"oh, that's easy,\" replied stockdale. \"the optimists.\" collins was confused. \"the optimists. oh, they were the ones who said, 'we're going to be out by christmas.' and christmas would come, and christmas would go. then they'd say, 'we're going to be out by easter.' and easter would come, and easter would go. and then thanksgiving. and then it would be christmas again. and they died of a broken heart.\" as the two men walked slowly onward, stockdale turned to collins. \"this is a very important lesson.",
         "2"
        ],
        [
         "40",
         "2023-10-23",
         "you must never confuse faith that you will prevail in the end – which you can never afford to lose – with the discipline to confront the most brutal facts of your current reality, whatever they might be.\" as collins' book came to be published, this observation came to be known as the stockdale paradox. for collins, it was exactly the same sort of behaviour displayed by those company founders who had led their businesses through thick and thin. the alternative was the average managers at also-ran companies that generated average returns at best, or which failed completely. and we have had interest rates held at emergency levels for over a decade – igniting inflationary problems that are now all too visible, not least in the bond market. central bankers are now trapped in a monetary policy killing pen of their own design; they cannot afford to raise rates to the levels realistically required, and pivoting back to cutting rates will destroy the last vestiges of policy credibility and currency stability. what are the implications for global asset allocation and stock selection? both in absolute terms and relative to equities, most bond markets are collapsing in real time. ever since the risk-free rate became the return-free risk, and given the dismal outlook for higher inflation, especially after new middle eastern conflict, stocks now look like the only game in town (aside from commodities, of course), and value stocks the most favourable tactic for playing that game.",
         "2"
        ],
        [
         "41",
         "2023-10-23",
         "the high price of optimism article:investing means staying the course, sure. but be realistic... vice admiral james stockdale has a good claim to have been one of the most extraordinary, not to say one of the bravest, americans ever to have lived, writes tim price at price value partners. on september 9th, 1965 he was shot down over north vietnam and seized by a mob. having broken a bone in his back ejecting from his plane he had his leg broken and his arm badly injured. he would spend the next seven years in hoa lo prison, the infamous \"hanoi hilton\". the physical brutality was unspeakable, and the mental torture never stopped. he would be kept in solitary confinement, in total darkness, for four years. he would be kept in heavy leg-irons for two years, on a starvation diet, deprived even of letters from home. throughout it all, stockdale was stoic. when told he would be paraded in front of foreign journalists, he slashed his own scalp with a razor and beat himself in the face with a wooden stool so that he would be unrecognisable and useless to the enemy's press. when he discovered that his fellow prisoners were being tortured to death, he slashed his wrists to show his torturers that he would not submit to them. when his guards finally realised that he would die before cooperating, they relented. the torture of american prisoners ended, and the treatment of all american prisoners of war improved. after being released in 1973, stockdale was awarded the medal of honour.",
         "2"
        ],
        [
         "42",
         "2023-10-23",
         "in this uniquely oppressive financial environment, with the skies darkening with the risks of sovereign debt default, or reset, we think innocent optimism could be fatal. or as warren buffett once observed, \"you pay a very high price in the stock market for a cheery consensus.\" we also seek portfolio diversification in uncorrelated assets (in our case, systematic trend-following funds) and, increasingly, in real assets (sensibly priced, hugely cash-generative listed businesses which derive the bulk of their earnings from the processing and provision of commodities, notably gold and silver). elroy dimson, mike staunton, and paul marsh titled their classic study of equity market returns for the 20th century 'triumph of the optimists'. it seems to us that in the months and years to come, realists may yet have the last laugh.",
         "2"
        ],
        [
         "43",
         "2023-10-23",
         "as regards stock markets, price is what you pay, and value (or lack thereof) is what you get. on any fair analysis, the us market in particular is a fly in search of a windscreen. using professor robert shiller's cyclically adjusted price / earnings ratio for the broad us stock market (currently 29.8x), shown below, us stocks have only been more expensive than they are today a handful of times in the past 130 years: in 2000, when they briefly traded at 44x, and more recently, just before the scamdemic. we are now \"merely\" back to 1929 pre-crash levels, at around 30x. the peak-to-trough fall for the dow jones industrial average from 1929, for example (when the market hit a shiller p/e of only 30x), equated to 89%. the peak-to-trough fall for the dow from 2000 equated to \"just\" 38%. time will tell just how disappointing (both by scale and by duration) the coming years will be for us equity market and growth stock bulls. vice admiral stockdale was unequivocal: while we need to confront the \"brutal facts\" of the marketplace, we also need to keep faith that we will prevail. to us, that boils down to avoiding conspicuous overvaluation (in most bond markets, for example, and a significant portion of the developed equity markets) and embracing equally conspicuous value – where current poor sentiment is likely to intensify subsequent upside returns.",
         "2"
        ],
        [
         "44",
         "2023-10-26",
         "what gives? \"delegates historically trend overly bullish,\" notes nicky shiels, precious metals strategist at swiss refining and finance group mks pamp (and moderator of day 1's excellent pgm session), in her round-up of last week's lbma conference. \"[so] the mildly bullish forecast from delegates is indicative of a lack of conviction\" in the face of higher-for-longer interest rates, even \"while physical [consumer] regions and central banks continue to be super supportive.\" contrarian klaxon? reviewing the history of lbma conference forecasts, maybe the past 12 months' gains in gold just weren't big enough. because, if you map prior conference predictions against what just happened to prices... ...rather than trying to see if those forecasts hold any predictive value... ...then the chart makes much more sense. especially if you allow for the fact that, for many lbma conference attendees, the price they charge – whether for coins, small bars or jewelry – comes a little or more above spot prices anyway. gold quality at root, the lbma exists to set and maintain the good delivery standards for the fineness, shape and size of bullion bars acceptable to the london market, heart of precious metals trading and storage worldwide. that way, lbma members – and their customers – trade only the very best metal, good every time it's delivered and without needing an assayer to check and re-check quality each time the gold is moved from one specialist vault to another.",
         "0"
        ],
        [
         "45",
         "2023-10-26",
         "gold at lbma 2023: high, quality, liquid article:taking stock in barcelona. lots of gold bar and coin stock...! another autumn, another lbma conference for the precious metals industry, writes adrian ash at bullionvault. more attendees than ever joined the london bullion market association's latest shindig, held last week in barcelona, spain. but while everyone got busy meeting with partners, suppliers, buyers, competitors and friends, they got much less news than we've grown accustomed to. no market-changing rules (responsible sourcing for refiners, lbma 2011 in montreal) or shock exits (mitsui, vienna 2015) or sudden buyers (reserve bank of india, edinburgh 2009) or existential crises (banking's nsfr regulations, singapore 2016). instead, this year's event offered a moment to take stock. and as the excellent session on 'consumer demand in a time of high prices' showed – as well as the cheerful \"tumbleweed\" comments from many attendees over drinks – there's a lot of stock to take for gold bar-and-coin retailers right now. if there was a scoop (heavens knows we tried to find you one, beyond the whispers and mutterings about central-bank demand in 2023 beating even last year's post-war record gold reserves demand) it came on day 2, in the final formal session of the lbma 2023 conference in barcelona.",
         "0"
        ],
        [
         "46",
         "2023-10-26",
         "gold was trading nearly $375 lower than that only this time last year. but even with gold prices now trading at their highest ever for the lbma's october conference (even in dollar terms) it doesn't mark the highest-ever such forecast. for that, see montreal 2011 predicting $2019 off $1800, or lockdown's 2020 conference online predicting $2177 off $1900 at the time of asking. moreover, last week's forecast predicted only a 4% rise from where gold was trading as the conference began. and that broke the mold if not the cupola... ...because while lbma delegates peering at their crystal balls tend to forecast a bullish move after seeing one over the prior 12 months... ...the conference's 4% twelve-month outlook contrasts with the last 12 months' 15% gain in gold prices. that was the 5th biggest bullish move from october-to-october of the last 15 lbma conferences. yet in percentage terms, lbma conference attendees just gave their least bullish prediction since the depths of gold's post-financial crisis bear market in 2015. and that was the only time since the early 2000s that delegates – on average – said prices would drop.",
         "0"
        ],
        [
         "47",
         "2023-10-26",
         "but on top of the physical requirements, further rules keep accruing to the good delivery standards, adding – most dramatically – ever more esg requirements over the last decade and more. that acronym – environmental, social and governance – covers pretty much everything you might hope to achieve (or be accused of failing to do) over and above turning a profit. but esg increasingly matters to that profit as well. because as 4-decade market veteran mehdi barkhordar said in the 'future of gold' panel on day 2 of lbma 2023, \"esg equals r, and r stands for reputation.\" hence the hot topic (again) of trying to get more gold from artisanal and small-scale mining into london good delivery gold bars. start by adding asm and lgd to your alphabet soup. because the volume of gold unearthed by some of the world's very poorest people which finds its way into lgd bullion has collapsed, sinking to barely 1% of the formal market's new annual supply. why? esg of course!",
         "0"
        ],
        [
         "48",
         "2023-10-26",
         "because someone, finally, explained what-in-the-hell is hqla. \"it means 'high-quality liquid asset',\" said david gornall, former head of trading at french investment bank natixis, chairman of lbma during the tumult of the early 2010s, and now senior advisor to the association's executive team. \"go on...\" asked no one but me. i mean, hqla is banking regulation. who cares? who can stay awake when it's explained, even this well? turns out, maybe, we all should. especially the wider banking and finance industry, never mind anyone in physical gold. you'll find david's explanation, plus the ramifications for the hqla future of the gold market here on goldnews in the next couple of days. meantime, and as the latest lbma conference confirmed, those words – high, quality, liquid – already apply to our market anyway right now. and not necessarily in a good way. gold high. very gold prices have rarely been higher than today in us dollar terms, and they've never traded this high in chinese yuan, turkish lira, euros, japanese yen, sterling, aussie dollars or most other currencies. but rather than giving a bullish tone to lbma 2023, and despite the very upbeat mood of delegates in person, this left the barcelona conference's forecast for gold prices looking pretty deflated... ...with the average delegate prediction for october 2024 (when we next meet, in miami, florida) coming in at just $1990 per troy ounce. yes, that's a big number.",
         "0"
        ],
        [
         "49",
         "2023-10-26",
         "but some ngos (there's another acronym; non-governmental organizations) are pushing back on that approach, while others demand that refiners on the london good delivery list not only take metal from asm miners but also spend additional money to improve their lives and local society, too. together, that risks cementing the \"damned if you do, damned if you don't\" problem that's forced some major refiners to quit buying metal from entire continents rather than spend time and money just to put their reputation on the line. governments also keep making demands of the legal gold industry too... ...rightly pushing against conflict, terrorist and organized crime-funding gold but also raising the risks – over and above reputation – into the courts (if not jail) for anyone daring to try expanding the formal industry's feedstock by engaging with and paying asm miners. why would the refiners and banks bother? business is humming along anyway, right? gold liquid forget the cerveza in barcelona (if you can recall it to start with). liquidity in any market, as the lbma barcelona conference was reminded in both this year's very strong 'investment exposure' session and by the 'future of gold' panel, means the ability to sell as easily as you buy without suffering a deep price discount as you get your order matched.",
         "0"
        ]
       ],
       "shape": {
        "columns": 3,
        "rows": 4085
       }
      },
      "text/html": [
       "<div>\n",
       "<style scoped>\n",
       "    .dataframe tbody tr th:only-of-type {\n",
       "        vertical-align: middle;\n",
       "    }\n",
       "\n",
       "    .dataframe tbody tr th {\n",
       "        vertical-align: top;\n",
       "    }\n",
       "\n",
       "    .dataframe thead th {\n",
       "        text-align: right;\n",
       "    }\n",
       "</style>\n",
       "<table border=\"1\" class=\"dataframe\">\n",
       "  <thead>\n",
       "    <tr style=\"text-align: right;\">\n",
       "      <th></th>\n",
       "      <th>Date</th>\n",
       "      <th>Content</th>\n",
       "      <th>Label</th>\n",
       "    </tr>\n",
       "  </thead>\n",
       "  <tbody>\n",
       "    <tr>\n",
       "      <th>0</th>\n",
       "      <td>2023-10-03</td>\n",
       "      <td>the silver investor index held above 50.0 mark...</td>\n",
       "      <td>2</td>\n",
       "    </tr>\n",
       "    <tr>\n",
       "      <th>1</th>\n",
       "      <td>2023-10-03</td>\n",
       "      <td>while gold has retreated from the record highs...</td>\n",
       "      <td>2</td>\n",
       "    </tr>\n",
       "    <tr>\n",
       "      <th>2</th>\n",
       "      <td>2023-10-03</td>\n",
       "      <td>gold bullion finds fewest buyers in 4 years ar...</td>\n",
       "      <td>2</td>\n",
       "    </tr>\n",
       "    <tr>\n",
       "      <th>3</th>\n",
       "      <td>2023-10-07</td>\n",
       "      <td>not to question. the thing we call wall street...</td>\n",
       "      <td>2</td>\n",
       "    </tr>\n",
       "    <tr>\n",
       "      <th>4</th>\n",
       "      <td>2023-10-07</td>\n",
       "      <td>treasuries, gold and guy debord article:the so...</td>\n",
       "      <td>2</td>\n",
       "    </tr>\n",
       "    <tr>\n",
       "      <th>...</th>\n",
       "      <td>...</td>\n",
       "      <td>...</td>\n",
       "      <td>...</td>\n",
       "    </tr>\n",
       "    <tr>\n",
       "      <th>4080</th>\n",
       "      <td>2025-06-13</td>\n",
       "      <td>microsoft hits an all-time high. here's why th...</td>\n",
       "      <td>0</td>\n",
       "    </tr>\n",
       "    <tr>\n",
       "      <th>4081</th>\n",
       "      <td>2025-06-13</td>\n",
       "      <td>earnings evolution microsoft, meta, and nvidia...</td>\n",
       "      <td>0</td>\n",
       "    </tr>\n",
       "    <tr>\n",
       "      <th>4082</th>\n",
       "      <td>2025-06-13</td>\n",
       "      <td>story continues in nvidia's latest quarter, wh...</td>\n",
       "      <td>0</td>\n",
       "    </tr>\n",
       "    <tr>\n",
       "      <th>4083</th>\n",
       "      <td>2025-06-13</td>\n",
       "      <td>walmart has a sky-high p/e ratio of 41.6, and ...</td>\n",
       "      <td>0</td>\n",
       "    </tr>\n",
       "    <tr>\n",
       "      <th>4084</th>\n",
       "      <td>2025-06-13</td>\n",
       "      <td>q2 fy2025 revenue surged to $550 million, up 4...</td>\n",
       "      <td>0</td>\n",
       "    </tr>\n",
       "  </tbody>\n",
       "</table>\n",
       "<p>4085 rows × 3 columns</p>\n",
       "</div>"
      ],
      "text/plain": [
       "            Date                                            Content  Label\n",
       "0     2023-10-03  the silver investor index held above 50.0 mark...      2\n",
       "1     2023-10-03  while gold has retreated from the record highs...      2\n",
       "2     2023-10-03  gold bullion finds fewest buyers in 4 years ar...      2\n",
       "3     2023-10-07  not to question. the thing we call wall street...      2\n",
       "4     2023-10-07  treasuries, gold and guy debord article:the so...      2\n",
       "...          ...                                                ...    ...\n",
       "4080  2025-06-13  microsoft hits an all-time high. here's why th...      0\n",
       "4081  2025-06-13  earnings evolution microsoft, meta, and nvidia...      0\n",
       "4082  2025-06-13  story continues in nvidia's latest quarter, wh...      0\n",
       "4083  2025-06-13  walmart has a sky-high p/e ratio of 41.6, and ...      0\n",
       "4084  2025-06-13  q2 fy2025 revenue surged to $550 million, up 4...      0\n",
       "\n",
       "[4085 rows x 3 columns]"
      ]
     },
     "execution_count": 15,
     "metadata": {},
     "output_type": "execute_result"
    }
   ],
   "source": [
    "#Load evaluation data text\n",
    "df = pd.read_csv(\"../../deepak/combined_eval.csv\",index_col=0)\n",
    "df"
   ]
  },
  {
   "cell_type": "code",
   "execution_count": 16,
   "id": "9d273597",
   "metadata": {},
   "outputs": [
    {
     "ename": "KeyboardInterrupt",
     "evalue": "",
     "output_type": "error",
     "traceback": [
      "\u001b[1;31m---------------------------------------------------------------------------\u001b[0m",
      "\u001b[1;31mKeyboardInterrupt\u001b[0m                         Traceback (most recent call last)",
      "Cell \u001b[1;32mIn[16], line 3\u001b[0m\n\u001b[0;32m      1\u001b[0m \u001b[38;5;66;03m#Get encodings\u001b[39;00m\n\u001b[0;32m      2\u001b[0m df\u001b[38;5;241m.\u001b[39mrename(columns\u001b[38;5;241m=\u001b[39m{\u001b[38;5;124m'\u001b[39m\u001b[38;5;124mContent\u001b[39m\u001b[38;5;124m'\u001b[39m:\u001b[38;5;124m'\u001b[39m\u001b[38;5;124mtext\u001b[39m\u001b[38;5;124m'\u001b[39m},inplace\u001b[38;5;241m=\u001b[39m\u001b[38;5;28;01mTrue\u001b[39;00m)\n\u001b[1;32m----> 3\u001b[0m df_with_encodings \u001b[38;5;241m=\u001b[39m \u001b[43mgenerate_topic_encodings\u001b[49m\u001b[43m(\u001b[49m\u001b[43mdf\u001b[49m\u001b[43m)\u001b[49m\n\u001b[0;32m      4\u001b[0m df_with_encodings\n",
      "File \u001b[1;32mc:\\Users\\adith\\Documents\\Academics\\Mtech\\Docs\\Courses\\Sem3\\DeepLearning\\Project\\DL-7-25\\Final\\Tarun\\modules\\functions.py:646\u001b[0m, in \u001b[0;36mgenerate_topic_encodings\u001b[1;34m(df_data)\u001b[0m\n\u001b[0;32m    643\u001b[0m embed \u001b[38;5;241m=\u001b[39m hub\u001b[38;5;241m.\u001b[39mload(model_url)\n\u001b[0;32m    645\u001b[0m \u001b[38;5;66;03m# Generate embeddings\u001b[39;00m\n\u001b[1;32m--> 646\u001b[0m embeddings \u001b[38;5;241m=\u001b[39m \u001b[43membed\u001b[49m\u001b[43m(\u001b[49m\u001b[38;5;28;43mlist\u001b[39;49m\u001b[43m(\u001b[49m\u001b[43mdf_data\u001b[49m\u001b[43m[\u001b[49m\u001b[38;5;124;43m'\u001b[39;49m\u001b[38;5;124;43mtext\u001b[39;49m\u001b[38;5;124;43m'\u001b[39;49m\u001b[43m]\u001b[49m\u001b[43m)\u001b[49m\u001b[43m)\u001b[49m\n\u001b[0;32m    648\u001b[0m \u001b[38;5;66;03m# Add it to our DataFrame\u001b[39;00m\n\u001b[0;32m    649\u001b[0m df_data[\u001b[38;5;124m'\u001b[39m\u001b[38;5;124mtopic_encodings\u001b[39m\u001b[38;5;124m'\u001b[39m] \u001b[38;5;241m=\u001b[39m \u001b[38;5;28mlist\u001b[39m(np\u001b[38;5;241m.\u001b[39marray(embeddings))\n",
      "File \u001b[1;32mc:\\Users\\adith\\anaconda3\\envs\\MLEnvt_Python38\\lib\\site-packages\\tensorflow\\python\\saved_model\\load.py:740\u001b[0m, in \u001b[0;36m_call_attribute\u001b[1;34m(instance, *args, **kwargs)\u001b[0m\n\u001b[0;32m    739\u001b[0m \u001b[38;5;28;01mdef\u001b[39;00m \u001b[38;5;21m_call_attribute\u001b[39m(instance, \u001b[38;5;241m*\u001b[39margs, \u001b[38;5;241m*\u001b[39m\u001b[38;5;241m*\u001b[39mkwargs):\n\u001b[1;32m--> 740\u001b[0m   \u001b[38;5;28;01mreturn\u001b[39;00m \u001b[43minstance\u001b[49m\u001b[38;5;241;43m.\u001b[39;49m\u001b[38;5;21;43m__call__\u001b[39;49m\u001b[43m(\u001b[49m\u001b[38;5;241;43m*\u001b[39;49m\u001b[43margs\u001b[49m\u001b[43m,\u001b[49m\u001b[43m \u001b[49m\u001b[38;5;241;43m*\u001b[39;49m\u001b[38;5;241;43m*\u001b[39;49m\u001b[43mkwargs\u001b[49m\u001b[43m)\u001b[49m\n",
      "File \u001b[1;32mc:\\Users\\adith\\anaconda3\\envs\\MLEnvt_Python38\\lib\\site-packages\\tensorflow\\python\\util\\traceback_utils.py:150\u001b[0m, in \u001b[0;36mfilter_traceback.<locals>.error_handler\u001b[1;34m(*args, **kwargs)\u001b[0m\n\u001b[0;32m    148\u001b[0m filtered_tb \u001b[38;5;241m=\u001b[39m \u001b[38;5;28;01mNone\u001b[39;00m\n\u001b[0;32m    149\u001b[0m \u001b[38;5;28;01mtry\u001b[39;00m:\n\u001b[1;32m--> 150\u001b[0m   \u001b[38;5;28;01mreturn\u001b[39;00m \u001b[43mfn\u001b[49m\u001b[43m(\u001b[49m\u001b[38;5;241;43m*\u001b[39;49m\u001b[43margs\u001b[49m\u001b[43m,\u001b[49m\u001b[43m \u001b[49m\u001b[38;5;241;43m*\u001b[39;49m\u001b[38;5;241;43m*\u001b[39;49m\u001b[43mkwargs\u001b[49m\u001b[43m)\u001b[49m\n\u001b[0;32m    151\u001b[0m \u001b[38;5;28;01mexcept\u001b[39;00m \u001b[38;5;167;01mException\u001b[39;00m \u001b[38;5;28;01mas\u001b[39;00m e:\n\u001b[0;32m    152\u001b[0m   filtered_tb \u001b[38;5;241m=\u001b[39m _process_traceback_frames(e\u001b[38;5;241m.\u001b[39m__traceback__)\n",
      "File \u001b[1;32mc:\\Users\\adith\\anaconda3\\envs\\MLEnvt_Python38\\lib\\site-packages\\tensorflow\\python\\eager\\polymorphic_function\\polymorphic_function.py:894\u001b[0m, in \u001b[0;36mFunction.__call__\u001b[1;34m(self, *args, **kwds)\u001b[0m\n\u001b[0;32m    891\u001b[0m compiler \u001b[38;5;241m=\u001b[39m \u001b[38;5;124m\"\u001b[39m\u001b[38;5;124mxla\u001b[39m\u001b[38;5;124m\"\u001b[39m \u001b[38;5;28;01mif\u001b[39;00m \u001b[38;5;28mself\u001b[39m\u001b[38;5;241m.\u001b[39m_jit_compile \u001b[38;5;28;01melse\u001b[39;00m \u001b[38;5;124m\"\u001b[39m\u001b[38;5;124mnonXla\u001b[39m\u001b[38;5;124m\"\u001b[39m\n\u001b[0;32m    893\u001b[0m \u001b[38;5;28;01mwith\u001b[39;00m OptionalXlaContext(\u001b[38;5;28mself\u001b[39m\u001b[38;5;241m.\u001b[39m_jit_compile):\n\u001b[1;32m--> 894\u001b[0m   result \u001b[38;5;241m=\u001b[39m \u001b[38;5;28;43mself\u001b[39;49m\u001b[38;5;241;43m.\u001b[39;49m\u001b[43m_call\u001b[49m\u001b[43m(\u001b[49m\u001b[38;5;241;43m*\u001b[39;49m\u001b[43margs\u001b[49m\u001b[43m,\u001b[49m\u001b[43m \u001b[49m\u001b[38;5;241;43m*\u001b[39;49m\u001b[38;5;241;43m*\u001b[39;49m\u001b[43mkwds\u001b[49m\u001b[43m)\u001b[49m\n\u001b[0;32m    896\u001b[0m new_tracing_count \u001b[38;5;241m=\u001b[39m \u001b[38;5;28mself\u001b[39m\u001b[38;5;241m.\u001b[39mexperimental_get_tracing_count()\n\u001b[0;32m    897\u001b[0m without_tracing \u001b[38;5;241m=\u001b[39m (tracing_count \u001b[38;5;241m==\u001b[39m new_tracing_count)\n",
      "File \u001b[1;32mc:\\Users\\adith\\anaconda3\\envs\\MLEnvt_Python38\\lib\\site-packages\\tensorflow\\python\\eager\\polymorphic_function\\polymorphic_function.py:966\u001b[0m, in \u001b[0;36mFunction._call\u001b[1;34m(self, *args, **kwds)\u001b[0m\n\u001b[0;32m    961\u001b[0m   _, _, filtered_flat_args \u001b[38;5;241m=\u001b[39m (\n\u001b[0;32m    962\u001b[0m       \u001b[38;5;28mself\u001b[39m\u001b[38;5;241m.\u001b[39m_variable_creation_fn\u001b[38;5;241m.\u001b[39m_function_spec  \u001b[38;5;66;03m# pylint: disable=protected-access\u001b[39;00m\n\u001b[0;32m    963\u001b[0m       \u001b[38;5;241m.\u001b[39mcanonicalize_function_inputs(\n\u001b[0;32m    964\u001b[0m           args, kwds))\n\u001b[0;32m    965\u001b[0m   \u001b[38;5;66;03m# If we did not create any variables the trace we have is good enough.\u001b[39;00m\n\u001b[1;32m--> 966\u001b[0m   \u001b[38;5;28;01mreturn\u001b[39;00m \u001b[38;5;28;43mself\u001b[39;49m\u001b[38;5;241;43m.\u001b[39;49m\u001b[43m_concrete_variable_creation_fn\u001b[49m\u001b[38;5;241;43m.\u001b[39;49m\u001b[43m_call_flat\u001b[49m\u001b[43m(\u001b[49m\u001b[43m   \u001b[49m\u001b[38;5;66;43;03m# pylint: disable=protected-access\u001b[39;49;00m\n\u001b[0;32m    967\u001b[0m \u001b[43m      \u001b[49m\u001b[43mfiltered_flat_args\u001b[49m\u001b[43m,\u001b[49m\n\u001b[0;32m    968\u001b[0m \u001b[43m      \u001b[49m\u001b[38;5;28;43mself\u001b[39;49m\u001b[38;5;241;43m.\u001b[39;49m\u001b[43m_concrete_variable_creation_fn\u001b[49m\u001b[38;5;241;43m.\u001b[39;49m\u001b[43mcaptured_inputs\u001b[49m\u001b[43m)\u001b[49m\n\u001b[0;32m    970\u001b[0m \u001b[38;5;28;01mdef\u001b[39;00m \u001b[38;5;21mfn_with_cond\u001b[39m(inner_args, inner_kwds, inner_filtered_flat_args):\n\u001b[0;32m    971\u001b[0m \u001b[38;5;250m  \u001b[39m\u001b[38;5;124;03m\"\"\"Conditionally runs initialization if it's needed.\"\"\"\u001b[39;00m\n",
      "File \u001b[1;32mc:\\Users\\adith\\anaconda3\\envs\\MLEnvt_Python38\\lib\\site-packages\\tensorflow\\python\\eager\\polymorphic_function\\monomorphic_function.py:1757\u001b[0m, in \u001b[0;36mConcreteFunction._call_flat\u001b[1;34m(self, args, captured_inputs, cancellation_manager)\u001b[0m\n\u001b[0;32m   1753\u001b[0m possible_gradient_type \u001b[38;5;241m=\u001b[39m gradients_util\u001b[38;5;241m.\u001b[39mPossibleTapeGradientTypes(args)\n\u001b[0;32m   1754\u001b[0m \u001b[38;5;28;01mif\u001b[39;00m (possible_gradient_type \u001b[38;5;241m==\u001b[39m gradients_util\u001b[38;5;241m.\u001b[39mPOSSIBLE_GRADIENT_TYPES_NONE\n\u001b[0;32m   1755\u001b[0m     \u001b[38;5;129;01mand\u001b[39;00m executing_eagerly):\n\u001b[0;32m   1756\u001b[0m   \u001b[38;5;66;03m# No tape is watching; skip to running the function.\u001b[39;00m\n\u001b[1;32m-> 1757\u001b[0m   \u001b[38;5;28;01mreturn\u001b[39;00m \u001b[38;5;28mself\u001b[39m\u001b[38;5;241m.\u001b[39m_build_call_outputs(\u001b[38;5;28;43mself\u001b[39;49m\u001b[38;5;241;43m.\u001b[39;49m\u001b[43m_inference_function\u001b[49m\u001b[38;5;241;43m.\u001b[39;49m\u001b[43mcall\u001b[49m\u001b[43m(\u001b[49m\n\u001b[0;32m   1758\u001b[0m \u001b[43m      \u001b[49m\u001b[43mctx\u001b[49m\u001b[43m,\u001b[49m\u001b[43m \u001b[49m\u001b[43margs\u001b[49m\u001b[43m,\u001b[49m\u001b[43m \u001b[49m\u001b[43mcancellation_manager\u001b[49m\u001b[38;5;241;43m=\u001b[39;49m\u001b[43mcancellation_manager\u001b[49m\u001b[43m)\u001b[49m)\n\u001b[0;32m   1759\u001b[0m forward_backward \u001b[38;5;241m=\u001b[39m \u001b[38;5;28mself\u001b[39m\u001b[38;5;241m.\u001b[39m_select_forward_and_backward_functions(\n\u001b[0;32m   1760\u001b[0m     args,\n\u001b[0;32m   1761\u001b[0m     possible_gradient_type,\n\u001b[0;32m   1762\u001b[0m     executing_eagerly)\n\u001b[0;32m   1763\u001b[0m forward_function, args_with_tangents \u001b[38;5;241m=\u001b[39m forward_backward\u001b[38;5;241m.\u001b[39mforward()\n",
      "File \u001b[1;32mc:\\Users\\adith\\anaconda3\\envs\\MLEnvt_Python38\\lib\\site-packages\\tensorflow\\python\\eager\\polymorphic_function\\monomorphic_function.py:381\u001b[0m, in \u001b[0;36m_EagerDefinedFunction.call\u001b[1;34m(self, ctx, args, cancellation_manager)\u001b[0m\n\u001b[0;32m    379\u001b[0m \u001b[38;5;28;01mwith\u001b[39;00m _InterpolateFunctionError(\u001b[38;5;28mself\u001b[39m):\n\u001b[0;32m    380\u001b[0m   \u001b[38;5;28;01mif\u001b[39;00m cancellation_manager \u001b[38;5;129;01mis\u001b[39;00m \u001b[38;5;28;01mNone\u001b[39;00m:\n\u001b[1;32m--> 381\u001b[0m     outputs \u001b[38;5;241m=\u001b[39m \u001b[43mexecute\u001b[49m\u001b[38;5;241;43m.\u001b[39;49m\u001b[43mexecute\u001b[49m\u001b[43m(\u001b[49m\n\u001b[0;32m    382\u001b[0m \u001b[43m        \u001b[49m\u001b[38;5;28;43mstr\u001b[39;49m\u001b[43m(\u001b[49m\u001b[38;5;28;43mself\u001b[39;49m\u001b[38;5;241;43m.\u001b[39;49m\u001b[43msignature\u001b[49m\u001b[38;5;241;43m.\u001b[39;49m\u001b[43mname\u001b[49m\u001b[43m)\u001b[49m\u001b[43m,\u001b[49m\n\u001b[0;32m    383\u001b[0m \u001b[43m        \u001b[49m\u001b[43mnum_outputs\u001b[49m\u001b[38;5;241;43m=\u001b[39;49m\u001b[38;5;28;43mself\u001b[39;49m\u001b[38;5;241;43m.\u001b[39;49m\u001b[43m_num_outputs\u001b[49m\u001b[43m,\u001b[49m\n\u001b[0;32m    384\u001b[0m \u001b[43m        \u001b[49m\u001b[43minputs\u001b[49m\u001b[38;5;241;43m=\u001b[39;49m\u001b[43margs\u001b[49m\u001b[43m,\u001b[49m\n\u001b[0;32m    385\u001b[0m \u001b[43m        \u001b[49m\u001b[43mattrs\u001b[49m\u001b[38;5;241;43m=\u001b[39;49m\u001b[43mattrs\u001b[49m\u001b[43m,\u001b[49m\n\u001b[0;32m    386\u001b[0m \u001b[43m        \u001b[49m\u001b[43mctx\u001b[49m\u001b[38;5;241;43m=\u001b[39;49m\u001b[43mctx\u001b[49m\u001b[43m)\u001b[49m\n\u001b[0;32m    387\u001b[0m   \u001b[38;5;28;01melse\u001b[39;00m:\n\u001b[0;32m    388\u001b[0m     outputs \u001b[38;5;241m=\u001b[39m execute\u001b[38;5;241m.\u001b[39mexecute_with_cancellation(\n\u001b[0;32m    389\u001b[0m         \u001b[38;5;28mstr\u001b[39m(\u001b[38;5;28mself\u001b[39m\u001b[38;5;241m.\u001b[39msignature\u001b[38;5;241m.\u001b[39mname),\n\u001b[0;32m    390\u001b[0m         num_outputs\u001b[38;5;241m=\u001b[39m\u001b[38;5;28mself\u001b[39m\u001b[38;5;241m.\u001b[39m_num_outputs,\n\u001b[1;32m   (...)\u001b[0m\n\u001b[0;32m    393\u001b[0m         ctx\u001b[38;5;241m=\u001b[39mctx,\n\u001b[0;32m    394\u001b[0m         cancellation_manager\u001b[38;5;241m=\u001b[39mcancellation_manager)\n",
      "File \u001b[1;32mc:\\Users\\adith\\anaconda3\\envs\\MLEnvt_Python38\\lib\\site-packages\\tensorflow\\python\\eager\\execute.py:52\u001b[0m, in \u001b[0;36mquick_execute\u001b[1;34m(op_name, num_outputs, inputs, attrs, ctx, name)\u001b[0m\n\u001b[0;32m     50\u001b[0m \u001b[38;5;28;01mtry\u001b[39;00m:\n\u001b[0;32m     51\u001b[0m   ctx\u001b[38;5;241m.\u001b[39mensure_initialized()\n\u001b[1;32m---> 52\u001b[0m   tensors \u001b[38;5;241m=\u001b[39m \u001b[43mpywrap_tfe\u001b[49m\u001b[38;5;241;43m.\u001b[39;49m\u001b[43mTFE_Py_Execute\u001b[49m\u001b[43m(\u001b[49m\u001b[43mctx\u001b[49m\u001b[38;5;241;43m.\u001b[39;49m\u001b[43m_handle\u001b[49m\u001b[43m,\u001b[49m\u001b[43m \u001b[49m\u001b[43mdevice_name\u001b[49m\u001b[43m,\u001b[49m\u001b[43m \u001b[49m\u001b[43mop_name\u001b[49m\u001b[43m,\u001b[49m\n\u001b[0;32m     53\u001b[0m \u001b[43m                                      \u001b[49m\u001b[43minputs\u001b[49m\u001b[43m,\u001b[49m\u001b[43m \u001b[49m\u001b[43mattrs\u001b[49m\u001b[43m,\u001b[49m\u001b[43m \u001b[49m\u001b[43mnum_outputs\u001b[49m\u001b[43m)\u001b[49m\n\u001b[0;32m     54\u001b[0m \u001b[38;5;28;01mexcept\u001b[39;00m core\u001b[38;5;241m.\u001b[39m_NotOkStatusException \u001b[38;5;28;01mas\u001b[39;00m e:\n\u001b[0;32m     55\u001b[0m   \u001b[38;5;28;01mif\u001b[39;00m name \u001b[38;5;129;01mis\u001b[39;00m \u001b[38;5;129;01mnot\u001b[39;00m \u001b[38;5;28;01mNone\u001b[39;00m:\n",
      "\u001b[1;31mKeyboardInterrupt\u001b[0m: "
     ]
    }
   ],
   "source": [
    "#Get encodings\n",
    "df.rename(columns={'Content':'text'},inplace=True)\n",
    "df_with_encodings = generate_topic_encodings(df)\n",
    "df_with_encodings"
   ]
  },
  {
   "cell_type": "code",
   "execution_count": null,
   "id": "7cec8592",
   "metadata": {},
   "outputs": [],
   "source": [
    "df_with_encodings.isna().sum()"
   ]
  },
  {
   "cell_type": "code",
   "execution_count": null,
   "id": "b024ef18",
   "metadata": {},
   "outputs": [],
   "source": [
    "#Get sentiments\n",
    "from transformers import AutoModelForSequenceClassification, AutoTokenizer\n",
    "\n",
    "path = \"../../Tarun/Model/finbert_best_model_merged\"\n",
    "device = torch.device(\"mps\" if torch.backends.mps.is_available() else \"cpu\")\n",
    "model = AutoModelForSequenceClassification.from_pretrained(path)\n",
    "tokenizer = AutoTokenizer.from_pretrained(path)"
   ]
  },
  {
   "cell_type": "code",
   "execution_count": null,
   "id": "a3f0385f",
   "metadata": {},
   "outputs": [],
   "source": [
    "#Process 10 at a time since it is too large.\n",
    "model.eval()\n",
    "model = model.to(device)\n",
    "text = list()\n",
    "\n",
    "out = []\n",
    "set = 1\n",
    "text_list = list(df_with_encodings.text)\n",
    "\n",
    "for i in tqdm.tqdm(range(0,len(text_list),set)):\n",
    "\n",
    "    inp = text_list[i : i + set]\n",
    "\n",
    "    # Tokenize input\n",
    "    inputs = tokenizer(\n",
    "        inp,\n",
    "        padding=True,\n",
    "        truncation=True,\n",
    "        max_length=512,\n",
    "        return_tensors=\"pt\"\n",
    "    ).to(device)\n",
    "\n",
    "    # Make prediction\n",
    "    with torch.no_grad():\n",
    "        outputs = model(**inputs)\n",
    "        logits = outputs.logits\n",
    "        probs = torch.nn.functional.softmax(logits, dim=-1)\n",
    "        predicted_class = torch.argmax(probs, dim=1)[0].item()\n",
    "\n",
    "    # Map prediction to sentiment\n",
    "    sentiment_map = {0: \"positive\", 1: \"neutral\", 2: \"negative\"}\n",
    "    confidence = probs[0][predicted_class].item()\n",
    "\n",
    "    out.append( {\n",
    "        \"text\": inp,\n",
    "        \"sentiment\": sentiment_map[predicted_class],\n",
    "        \"confidence\": f\"{confidence:.4f}\",\n",
    "        \"logits\": logits[0].cpu().numpy().tolist(),\n",
    "        \"probabilities\": {\n",
    "            \"positive\": f\"{probs[0][0].item():.4f}\",\n",
    "            \"neutral\": f\"{probs[0][1].item():.4f}\",\n",
    "            \"negative\": f\"{probs[0][2].item():.4f}\"\n",
    "        }\n",
    "    })"
   ]
  },
  {
   "cell_type": "code",
   "execution_count": null,
   "id": "0a21b4f1",
   "metadata": {},
   "outputs": [],
   "source": [
    "df_with_sentiment = pd.DataFrame.from_dict(out)\n",
    "df_with_sentiment"
   ]
  },
  {
   "cell_type": "code",
   "execution_count": null,
   "id": "757abef9",
   "metadata": {},
   "outputs": [],
   "source": [
    "df_with_sentiment_and_encodings = pd.concat([df_with_sentiment, df_with_encodings.drop(columns='text')],axis = 1)\n",
    "df_with_sentiment_and_encodings"
   ]
  },
  {
   "cell_type": "code",
   "execution_count": null,
   "id": "1e5abefb",
   "metadata": {},
   "outputs": [],
   "source": [
    "#Create a copy before processing\n",
    "df_processed = df_with_sentiment_and_encodings.copy()\n",
    "\n",
    "#Parse prediction text into a dictionary\n",
    "df_processed['probabilities'] = df_processed['probabilities'].apply(lambda x: eval(x) if isinstance(x, str) else x)\n",
    "\n",
    "#Extract net sentiment score [Between -1 and 1]\n",
    "df_processed['sentiment'] = df_processed['probabilities'].apply(lambda x: float(x['positive']) - float(x['negative']))\n",
    "df_processed['confidence'] = df_processed['confidence'].astype(float)\n",
    "df_processed['sentiment'] = df_processed['sentiment'] * df_processed['confidence']\n",
    "\n",
    "df_out = df_processed[['Date','text','sentiment','topic_encodings','Label']].copy()\n",
    "df_out = df_processed.copy()\n",
    "\n",
    "df_out"
   ]
  },
  {
   "cell_type": "code",
   "execution_count": 17,
   "id": "2713d656",
   "metadata": {},
   "outputs": [
    {
     "data": {
      "application/vnd.microsoft.datawrangler.viewer.v0+json": {
       "columns": [
        {
         "name": "index",
         "rawType": "int64",
         "type": "integer"
        },
        {
         "name": "Date",
         "rawType": "object",
         "type": "string"
        },
        {
         "name": "Open",
         "rawType": "float64",
         "type": "float"
        },
        {
         "name": "High",
         "rawType": "float64",
         "type": "float"
        },
        {
         "name": "Low",
         "rawType": "float64",
         "type": "float"
        },
        {
         "name": "Close",
         "rawType": "float64",
         "type": "float"
        },
        {
         "name": "Volume",
         "rawType": "int64",
         "type": "integer"
        }
       ],
       "ref": "e2167ead-6c4e-4f20-bd64-0cfc81838e71",
       "rows": [
        [
         "0",
         "2010-02-05",
         "15.979999542236328",
         "16.01099967956543",
         "15.738499641418455",
         "15.765000343322754",
         "2836000"
        ],
        [
         "1",
         "2010-02-08",
         "16.0310001373291",
         "16.097999572753906",
         "15.960000038146973",
         "16.0625",
         "445700"
        ],
        [
         "2",
         "2010-02-09",
         "16.065000534057617",
         "16.065000534057617",
         "15.960000038146973",
         "15.997200012207031",
         "669100"
        ],
        [
         "3",
         "2010-02-10",
         "16.09000015258789",
         "16.108999252319336",
         "16.0221004486084",
         "16.06089973449707",
         "335400"
        ],
        [
         "4",
         "2010-02-11",
         "16.099000930786133",
         "16.099000930786133",
         "16.030500411987305",
         "16.05929946899414",
         "385300"
        ]
       ],
       "shape": {
        "columns": 6,
        "rows": 5
       }
      },
      "text/html": [
       "<div>\n",
       "<style scoped>\n",
       "    .dataframe tbody tr th:only-of-type {\n",
       "        vertical-align: middle;\n",
       "    }\n",
       "\n",
       "    .dataframe tbody tr th {\n",
       "        vertical-align: top;\n",
       "    }\n",
       "\n",
       "    .dataframe thead th {\n",
       "        text-align: right;\n",
       "    }\n",
       "</style>\n",
       "<table border=\"1\" class=\"dataframe\">\n",
       "  <thead>\n",
       "    <tr style=\"text-align: right;\">\n",
       "      <th></th>\n",
       "      <th>Date</th>\n",
       "      <th>Open</th>\n",
       "      <th>High</th>\n",
       "      <th>Low</th>\n",
       "      <th>Close</th>\n",
       "      <th>Volume</th>\n",
       "    </tr>\n",
       "  </thead>\n",
       "  <tbody>\n",
       "    <tr>\n",
       "      <th>0</th>\n",
       "      <td>2010-02-05</td>\n",
       "      <td>15.980000</td>\n",
       "      <td>16.011000</td>\n",
       "      <td>15.7385</td>\n",
       "      <td>15.765000</td>\n",
       "      <td>2836000</td>\n",
       "    </tr>\n",
       "    <tr>\n",
       "      <th>1</th>\n",
       "      <td>2010-02-08</td>\n",
       "      <td>16.031000</td>\n",
       "      <td>16.098000</td>\n",
       "      <td>15.9600</td>\n",
       "      <td>16.062500</td>\n",
       "      <td>445700</td>\n",
       "    </tr>\n",
       "    <tr>\n",
       "      <th>2</th>\n",
       "      <td>2010-02-09</td>\n",
       "      <td>16.065001</td>\n",
       "      <td>16.065001</td>\n",
       "      <td>15.9600</td>\n",
       "      <td>15.997200</td>\n",
       "      <td>669100</td>\n",
       "    </tr>\n",
       "    <tr>\n",
       "      <th>3</th>\n",
       "      <td>2010-02-10</td>\n",
       "      <td>16.090000</td>\n",
       "      <td>16.108999</td>\n",
       "      <td>16.0221</td>\n",
       "      <td>16.060900</td>\n",
       "      <td>335400</td>\n",
       "    </tr>\n",
       "    <tr>\n",
       "      <th>4</th>\n",
       "      <td>2010-02-11</td>\n",
       "      <td>16.099001</td>\n",
       "      <td>16.099001</td>\n",
       "      <td>16.0305</td>\n",
       "      <td>16.059299</td>\n",
       "      <td>385300</td>\n",
       "    </tr>\n",
       "  </tbody>\n",
       "</table>\n",
       "</div>"
      ],
      "text/plain": [
       "         Date       Open       High      Low      Close   Volume\n",
       "0  2010-02-05  15.980000  16.011000  15.7385  15.765000  2836000\n",
       "1  2010-02-08  16.031000  16.098000  15.9600  16.062500   445700\n",
       "2  2010-02-09  16.065001  16.065001  15.9600  15.997200   669100\n",
       "3  2010-02-10  16.090000  16.108999  16.0221  16.060900   335400\n",
       "4  2010-02-11  16.099001  16.099001  16.0305  16.059299   385300"
      ]
     },
     "execution_count": 17,
     "metadata": {},
     "output_type": "execute_result"
    }
   ],
   "source": [
    "df_gold = pd.read_csv('../../Jaison/Archive/Model_Evaluation_Code/Data/GOLDBEES_ETF_price_data.csv')\n",
    "df_gold.head()"
   ]
  },
  {
   "cell_type": "code",
   "execution_count": null,
   "id": "06a8e564",
   "metadata": {},
   "outputs": [],
   "source": [
    "def add_gold_price_change(df_data,df_gold):\n",
    "    \n",
    "\n",
    "    #Merge above dataframe with our gold data.\n",
    "\n",
    "    df_gold_premerge = df_gold.copy()\n",
    "    df_data_premerge = df_data.copy()\n",
    "\n",
    "    df_gold_premerge['Date'] = pd.to_datetime(df_gold_premerge['Date'])\n",
    "    df_data_premerge['Date'] = pd.to_datetime(df_data_premerge['date'])\n",
    "\n",
    "    # Compute the relative change in price from one day to the next before merging.\n",
    "    df_gold_premerge = df_gold_premerge.sort_values(by='Date').reset_index(drop=True)\n",
    "    df_gold_premerge['next_day_price'] = df_gold_premerge['Close'].shift(-1)\n",
    "    df_gold_premerge['next_day'] = df_gold_premerge['Date'].shift(-1)\n",
    "    df_gold_premerge['day_gap'] = (df_gold_premerge['next_day'] - df_gold_premerge['Date']).dt.days\n",
    "    df_gold_premerge['relative_change'] = (df_gold_premerge['next_day_price'] - df_gold_premerge['Close']) / df_gold_premerge['day_gap']\n",
    "\n",
    "    #Make it a percentage change\n",
    "    df_gold_premerge['relative_change'] = 100 * (df_gold_premerge['relative_change'] / df_gold_premerge['Close'])\n",
    "\n",
    "    # # We want to predict gold price for the next day. Data to use for prediction is the day before. ]\n",
    "    df_gold_premerge['Date'] = df_gold_premerge['Date'] - pd.Timedelta(days=1)\n",
    "\n",
    "    # Perform the merge on the adjusted date\n",
    "    merged_df = pd.merge(df_data_premerge, df_gold_premerge, on='Date', how='inner')\n",
    "    merged_df['sentiment_combined_encodings'] =  merged_df['topic_encodings'] * merged_df['sentiment']\n",
    "\n",
    "    #Rename relative_change column to price_percentage_change\n",
    "    merged_df = merged_df.rename(columns={'relative_change':'price_percentage_change'})\n",
    "    final_df = merged_df[['Date','text','sentiment','topic_encodings','sentiment_combined_encodings','price_percentage_change','Close','next_day_price']].copy()\n",
    "\n",
    "    return final_df\n",
    "\n",
    "#Merge data with Gold data\n",
    "final_df = add_gold_price_change(df_out.rename(columns={'Date':'date'}),df_gold)\n",
    "final_df.head()"
   ]
  },
  {
   "cell_type": "code",
   "execution_count": null,
   "id": "cd0e612a",
   "metadata": {},
   "outputs": [],
   "source": [
    "df_temp = final_df.rename(columns={'topic_encodings':'topic_encodings','sentiment':'sentiment','Date':'date'}).copy()\n",
    "final_df['sentiment_combined_encodings'] = get_sentiment_combined_encodings(df_temp)['sentiment_combined_encodings']\n",
    "final_df"
   ]
  },
  {
   "cell_type": "code",
   "execution_count": null,
   "id": "12677f89",
   "metadata": {},
   "outputs": [],
   "source": [
    "final_df['Label'] = df_out['Label']"
   ]
  },
  {
   "cell_type": "code",
   "execution_count": null,
   "id": "337457d8",
   "metadata": {},
   "outputs": [],
   "source": [
    "final_df.columns"
   ]
  },
  {
   "cell_type": "code",
   "execution_count": null,
   "id": "a97f8d9b",
   "metadata": {},
   "outputs": [],
   "source": [
    "final_df_clean = final_df[['Date','sentiment_combined_encodings','price_percentage_change','Label','Close','next_day_price']]\n",
    "final_df_clean"
   ]
  },
  {
   "cell_type": "code",
   "execution_count": null,
   "id": "98be127d",
   "metadata": {},
   "outputs": [],
   "source": [
    "final_df_clean.to_pickle(\"Pre_prediction_validation_data.pkl\")"
   ]
  },
  {
   "cell_type": "code",
   "execution_count": null,
   "id": "54c56600",
   "metadata": {},
   "outputs": [
    {
     "ename": "AttributeError",
     "evalue": "module 'pandas' has no attribute 'from_pickle'",
     "output_type": "error",
     "traceback": [
      "\u001b[1;31m---------------------------------------------------------------------------\u001b[0m",
      "\u001b[1;31mAttributeError\u001b[0m                            Traceback (most recent call last)",
      "Cell \u001b[1;32mIn[20], line 1\u001b[0m\n\u001b[1;32m----> 1\u001b[0m final_df_clean \u001b[38;5;241m=\u001b[39m \u001b[43mpd\u001b[49m\u001b[38;5;241;43m.\u001b[39;49m\u001b[43mfrom_pickle\u001b[49m(\u001b[38;5;124m\"\u001b[39m\u001b[38;5;124mPre_prediction_validation_data.pkl\u001b[39m\u001b[38;5;124m\"\u001b[39m)\n",
      "\u001b[1;31mAttributeError\u001b[0m: module 'pandas' has no attribute 'from_pickle'"
     ]
    }
   ],
   "source": [
    "# final_df_clean = pd.(\"Pre_prediction_validation_data.pkl\")"
   ]
  },
  {
   "cell_type": "code",
   "execution_count": null,
   "id": "a89c6341",
   "metadata": {},
   "outputs": [],
   "source": [
    "def group_into_variable_sets(df, max_articles_per_day=None):\n",
    "    \"\"\"\n",
    "    Group data into variable-sized sets with padding and masking\n",
    "    \"\"\"\n",
    "    # Group by date and get actual lists\n",
    "    group_dict = df.groupby('Date')\n",
    "    grouped = group_dict['sentiment_combined_encodings'].apply(list)\n",
    "    price_changes = group_dict.first()['price_percentage_change'].values\n",
    "    dates = [name for name,unused_df in group_dict]\n",
    "    \n",
    "    # Find max set size if not provided\n",
    "    if max_articles_per_day is None:\n",
    "        max_articles_per_day = max(len(articles) for articles in grouped)\n",
    "        print(f\"Max articles per day: {max_articles_per_day}\")\n",
    "    \n",
    "    # Pad sequences and create masks\n",
    "    padded_encodings = []\n",
    "    masks = []\n",
    "    \n",
    "    for articles in grouped:\n",
    "        current_length = len(articles)\n",
    "        \n",
    "        # Pad with zeros if needed\n",
    "        if current_length < max_articles_per_day:\n",
    "            # Assuming articles are numpy arrays or lists of same dimension\n",
    "            encoding_dim = len(articles[0]) if current_length > 0 else 768  # Default embedding dim\n",
    "            padded = articles + [np.zeros(encoding_dim)] * (max_articles_per_day - current_length)\n",
    "        else:\n",
    "            padded = articles[:max_articles_per_day]  # Truncate if too long\n",
    "            current_length = max_articles_per_day\n",
    "        \n",
    "        padded_encodings.append(padded)\n",
    "        \n",
    "        # Create mask: 1 for real data, 0 for padding\n",
    "        mask = [1] * min(current_length, max_articles_per_day) + [0] * max(0, max_articles_per_day - current_length)\n",
    "        masks.append(mask)\n",
    "    \n",
    "    encodings = np.array(padded_encodings, dtype=np.float32)\n",
    "    masks = np.array(masks, dtype=np.float32)\n",
    "    price_changes = np.array(price_changes, dtype=np.float32).reshape(-1, 1)\n",
    "    \n",
    "    return encodings, price_changes, masks, dates\n",
    "\n",
    "encodings, price_changes, masks ,dates= group_into_variable_sets(final_df_clean)"
   ]
  },
  {
   "cell_type": "code",
   "execution_count": null,
   "id": "dc9a857f",
   "metadata": {},
   "outputs": [],
   "source": [
    "model = SetTransformer(\n",
    "    dim_input = 512, \n",
    "    num_outputs = 1, #One final prediction\n",
    "    dim_output = 1, #1D output for price change\n",
    "    num_inds=32, \n",
    "    dim_hidden=128, \n",
    "    num_heads=4, \n",
    "    ln=True #Layer normalization\n",
    "    )\n",
    "\n",
    "optimizer = torch.optim.Adam(model.parameters(), lr=0.001)\n",
    "criterion = nn.MSELoss()\n",
    "\n",
    "# Move model to GPU if available\n",
    "device = torch.device('cuda' if torch.cuda.is_available() else 'cpu')\n",
    "model = model.to(device)\n",
    "\n",
    "\n",
    "# Load the model from the checkpoint\n",
    "checkpoint_path = 'FinalModel/final_model.pth'\n",
    "if os.path.exists(checkpoint_path):\n",
    "    start_epoch, start_loss ,model, optimizer = load_checkpoint(checkpoint_path, model, optimizer,device)\n",
    "    print(f\"Model loaded from {checkpoint_path} at epoch {start_epoch} with loss {start_loss:.4f}\")\n",
    "else:\n",
    "    start_epoch, start_loss = 0, float('inf')\n",
    "    print(f\"No checkpoint found at {checkpoint_path}. Starting from scratch.\")"
   ]
  },
  {
   "cell_type": "code",
   "execution_count": null,
   "id": "2f0f2727",
   "metadata": {},
   "outputs": [],
   "source": [
    "encodings_t.shape,masks_t.shape"
   ]
  },
  {
   "cell_type": "code",
   "execution_count": null,
   "id": "2e51e2e1",
   "metadata": {},
   "outputs": [],
   "source": [
    "encodings_t = torch.tensor(encodings, dtype=torch.float32).to(device=device)\n",
    "masks_t = torch.tensor(masks, dtype=torch.float32).to(device=device)\n",
    "\n",
    "\n",
    "with torch.no_grad():\n",
    "    inps = encodings_t.to(device)\n",
    "    m = masks_t.to(device)\n",
    "    \n",
    "    preds = model(inps,mask = m)\n",
    "    if preds.dim() > 1:\n",
    "        preds = preds.squeeze()\n"
   ]
  },
  {
   "cell_type": "code",
   "execution_count": null,
   "id": "6e308ea0",
   "metadata": {},
   "outputs": [],
   "source": [
    "df_preds = pd.DataFrame({'Date': dates, 'Predictions': preds.cpu()})\n",
    "df_preds"
   ]
  },
  {
   "cell_type": "code",
   "execution_count": null,
   "id": "c116f16f",
   "metadata": {},
   "outputs": [],
   "source": [
    "final_df_clean['Predictions'] = final_df_clean['Date'].map(df_preds.set_index('Date')['Predictions'])\n",
    "final_df_clean"
   ]
  },
  {
   "cell_type": "code",
   "execution_count": null,
   "id": "022977c0",
   "metadata": {},
   "outputs": [],
   "source": [
    "final_df_clean['predicted_price'] = final_df_clean['Close']  * (1 + final_df_clean['Predictions']/100)\n",
    "final_df_clean"
   ]
  },
  {
   "cell_type": "code",
   "execution_count": null,
   "id": "7101bcea",
   "metadata": {},
   "outputs": [],
   "source": [
    "final_df_clean.columns"
   ]
  },
  {
   "cell_type": "code",
   "execution_count": null,
   "id": "443557fb",
   "metadata": {},
   "outputs": [],
   "source": [
    "df = final_df_clean[['Date','next_day_price','predicted_price','Predictions','price_percentage_change', 'Label']]\n",
    "\n",
    "df = df.rename(columns = {'next_day_price':'Actual Price','predicted_price':'Predicted Price','Predictions':'Predicted Change','price_percentage_change':'Actual Change', 'Label':'Ground truth Label'})\n",
    "df"
   ]
  },
  {
   "cell_type": "code",
   "execution_count": null,
   "id": "6dd00401",
   "metadata": {},
   "outputs": [],
   "source": [
    "df.to_csv('final_predictions.csv')"
   ]
  },
  {
   "cell_type": "code",
   "execution_count": 23,
   "id": "871f701a",
   "metadata": {},
   "outputs": [],
   "source": [
    "df = pd.read_csv('final_predictions.csv')"
   ]
  },
  {
   "cell_type": "code",
   "execution_count": null,
   "id": "542fe9bc",
   "metadata": {},
   "outputs": [
    {
     "ename": "AttributeError",
     "evalue": "Can only use .dt accessor with datetimelike values",
     "output_type": "error",
     "traceback": [
      "\u001b[1;31m---------------------------------------------------------------------------\u001b[0m",
      "\u001b[1;31mAttributeError\u001b[0m                            Traceback (most recent call last)",
      "Cell \u001b[1;32mIn[24], line 2\u001b[0m\n\u001b[0;32m      1\u001b[0m df_dump \u001b[38;5;241m=\u001b[39m df\u001b[38;5;241m.\u001b[39mcopy()\n\u001b[1;32m----> 2\u001b[0m df_dump[\u001b[38;5;124m'\u001b[39m\u001b[38;5;124mDate\u001b[39m\u001b[38;5;124m'\u001b[39m] \u001b[38;5;241m=\u001b[39m \u001b[43mdf\u001b[49m\u001b[43m[\u001b[49m\u001b[38;5;124;43m'\u001b[39;49m\u001b[38;5;124;43mDate\u001b[39;49m\u001b[38;5;124;43m'\u001b[39;49m\u001b[43m]\u001b[49m\u001b[38;5;241;43m.\u001b[39;49m\u001b[43mdt\u001b[49m\u001b[38;5;241m.\u001b[39mdate \u001b[38;5;66;03m#.apply(lambda t: t.strftime(\"%d-%m-%Y\"))\u001b[39;00m\n\u001b[0;32m      3\u001b[0m df_dump \u001b[38;5;241m=\u001b[39m df_dump[[\u001b[38;5;124m'\u001b[39m\u001b[38;5;124mDate\u001b[39m\u001b[38;5;124m'\u001b[39m,\u001b[38;5;124m'\u001b[39m\u001b[38;5;124mActual Price\u001b[39m\u001b[38;5;124m'\u001b[39m,\u001b[38;5;124m'\u001b[39m\u001b[38;5;124mPredicted Price\u001b[39m\u001b[38;5;124m'\u001b[39m]]\u001b[38;5;241m.\u001b[39mgroupby(\u001b[38;5;124m'\u001b[39m\u001b[38;5;124mDate\u001b[39m\u001b[38;5;124m'\u001b[39m)\u001b[38;5;241m.\u001b[39mfirst()\n\u001b[0;32m      4\u001b[0m df_dump\u001b[38;5;241m.\u001b[39mto_csv(\u001b[38;5;124m'\u001b[39m\u001b[38;5;124mfinal_predictions_cols.csv\u001b[39m\u001b[38;5;124m'\u001b[39m)\n",
      "File \u001b[1;32mc:\\Users\\adith\\anaconda3\\envs\\MLEnvt_Python38\\lib\\site-packages\\pandas\\core\\generic.py:5989\u001b[0m, in \u001b[0;36mNDFrame.__getattr__\u001b[1;34m(self, name)\u001b[0m\n\u001b[0;32m   5982\u001b[0m \u001b[38;5;28;01mif\u001b[39;00m (\n\u001b[0;32m   5983\u001b[0m     name \u001b[38;5;129;01mnot\u001b[39;00m \u001b[38;5;129;01min\u001b[39;00m \u001b[38;5;28mself\u001b[39m\u001b[38;5;241m.\u001b[39m_internal_names_set\n\u001b[0;32m   5984\u001b[0m     \u001b[38;5;129;01mand\u001b[39;00m name \u001b[38;5;129;01mnot\u001b[39;00m \u001b[38;5;129;01min\u001b[39;00m \u001b[38;5;28mself\u001b[39m\u001b[38;5;241m.\u001b[39m_metadata\n\u001b[0;32m   5985\u001b[0m     \u001b[38;5;129;01mand\u001b[39;00m name \u001b[38;5;129;01mnot\u001b[39;00m \u001b[38;5;129;01min\u001b[39;00m \u001b[38;5;28mself\u001b[39m\u001b[38;5;241m.\u001b[39m_accessors\n\u001b[0;32m   5986\u001b[0m     \u001b[38;5;129;01mand\u001b[39;00m \u001b[38;5;28mself\u001b[39m\u001b[38;5;241m.\u001b[39m_info_axis\u001b[38;5;241m.\u001b[39m_can_hold_identifiers_and_holds_name(name)\n\u001b[0;32m   5987\u001b[0m ):\n\u001b[0;32m   5988\u001b[0m     \u001b[38;5;28;01mreturn\u001b[39;00m \u001b[38;5;28mself\u001b[39m[name]\n\u001b[1;32m-> 5989\u001b[0m \u001b[38;5;28;01mreturn\u001b[39;00m \u001b[38;5;28;43mobject\u001b[39;49m\u001b[38;5;241;43m.\u001b[39;49m\u001b[38;5;21;43m__getattribute__\u001b[39;49m\u001b[43m(\u001b[49m\u001b[38;5;28;43mself\u001b[39;49m\u001b[43m,\u001b[49m\u001b[43m \u001b[49m\u001b[43mname\u001b[49m\u001b[43m)\u001b[49m\n",
      "File \u001b[1;32mc:\\Users\\adith\\anaconda3\\envs\\MLEnvt_Python38\\lib\\site-packages\\pandas\\core\\accessor.py:224\u001b[0m, in \u001b[0;36mCachedAccessor.__get__\u001b[1;34m(self, obj, cls)\u001b[0m\n\u001b[0;32m    221\u001b[0m \u001b[38;5;28;01mif\u001b[39;00m obj \u001b[38;5;129;01mis\u001b[39;00m \u001b[38;5;28;01mNone\u001b[39;00m:\n\u001b[0;32m    222\u001b[0m     \u001b[38;5;66;03m# we're accessing the attribute of the class, i.e., Dataset.geo\u001b[39;00m\n\u001b[0;32m    223\u001b[0m     \u001b[38;5;28;01mreturn\u001b[39;00m \u001b[38;5;28mself\u001b[39m\u001b[38;5;241m.\u001b[39m_accessor\n\u001b[1;32m--> 224\u001b[0m accessor_obj \u001b[38;5;241m=\u001b[39m \u001b[38;5;28;43mself\u001b[39;49m\u001b[38;5;241;43m.\u001b[39;49m\u001b[43m_accessor\u001b[49m\u001b[43m(\u001b[49m\u001b[43mobj\u001b[49m\u001b[43m)\u001b[49m\n\u001b[0;32m    225\u001b[0m \u001b[38;5;66;03m# Replace the property with the accessor object. Inspired by:\u001b[39;00m\n\u001b[0;32m    226\u001b[0m \u001b[38;5;66;03m# https://www.pydanny.com/cached-property.html\u001b[39;00m\n\u001b[0;32m    227\u001b[0m \u001b[38;5;66;03m# We need to use object.__setattr__ because we overwrite __setattr__ on\u001b[39;00m\n\u001b[0;32m    228\u001b[0m \u001b[38;5;66;03m# NDFrame\u001b[39;00m\n\u001b[0;32m    229\u001b[0m \u001b[38;5;28mobject\u001b[39m\u001b[38;5;241m.\u001b[39m\u001b[38;5;21m__setattr__\u001b[39m(obj, \u001b[38;5;28mself\u001b[39m\u001b[38;5;241m.\u001b[39m_name, accessor_obj)\n",
      "File \u001b[1;32mc:\\Users\\adith\\anaconda3\\envs\\MLEnvt_Python38\\lib\\site-packages\\pandas\\core\\indexes\\accessors.py:580\u001b[0m, in \u001b[0;36mCombinedDatetimelikeProperties.__new__\u001b[1;34m(cls, data)\u001b[0m\n\u001b[0;32m    577\u001b[0m \u001b[38;5;28;01melif\u001b[39;00m is_period_dtype(data\u001b[38;5;241m.\u001b[39mdtype):\n\u001b[0;32m    578\u001b[0m     \u001b[38;5;28;01mreturn\u001b[39;00m PeriodProperties(data, orig)\n\u001b[1;32m--> 580\u001b[0m \u001b[38;5;28;01mraise\u001b[39;00m \u001b[38;5;167;01mAttributeError\u001b[39;00m(\u001b[38;5;124m\"\u001b[39m\u001b[38;5;124mCan only use .dt accessor with datetimelike values\u001b[39m\u001b[38;5;124m\"\u001b[39m)\n",
      "\u001b[1;31mAttributeError\u001b[0m: Can only use .dt accessor with datetimelike values"
     ]
    }
   ],
   "source": [
    "# df_dump = df.copy()\n",
    "# df_dump['Date'] = df['Date'].dt.date #.apply(lambda t: t.strftime(\"%d-%m-%Y\"))\n",
    "# df_dump = df_dump[['Date','Actual Price','Predicted Price']].groupby('Date').first()\n",
    "# df_dump.to_csv('final_predictions_cols.csv')\n",
    "# df_dump"
   ]
  },
  {
   "cell_type": "code",
   "execution_count": 25,
   "id": "11431736",
   "metadata": {},
   "outputs": [
    {
     "data": {
      "image/png": "[encoded data removed]",
      "text/plain": [
       "<Figure size 1200x600 with 1 Axes>"
      ]
     },
     "metadata": {},
     "output_type": "display_data"
    },
    {
     "name": "stdout",
     "output_type": "stream",
     "text": [
      "Accuracy Metrics:\n",
      "MAE: 0.46\n",
      "RMSE: 0.63\n",
      "R²: 0.993\n",
      "MAPE: 0.70%\n"
     ]
    }
   ],
   "source": [
    "import matplotlib.pyplot as plt\n",
    "import numpy as np\n",
    "from sklearn.metrics import mean_absolute_error, mean_squared_error, r2_score\n",
    "\n",
    "# Assuming your DataFrame is called 'df'\n",
    "# df = pd.read_csv('your_file.csv')  # Load your data\n",
    "\n",
    "# Convert Date column to datetime if needed\n",
    "df['Date'] = pd.to_datetime(df['Date'])\n",
    "\n",
    "# Create comparative plot\n",
    "plt.figure(figsize=(12, 6))\n",
    "plt.plot(df['Date'], df['Actual Price'], label='Actual', linewidth=2, alpha=0.8)\n",
    "plt.plot(df['Date'], df['Predicted Price'], label='Predicted', linewidth=2, alpha=0.8)\n",
    "plt.xlabel('Date')\n",
    "plt.ylabel('Price')\n",
    "plt.title('Actual vs Predicted Prices')\n",
    "plt.legend()\n",
    "plt.grid(True, alpha=0.3)\n",
    "plt.xticks(rotation=45)\n",
    "plt.tight_layout()\n",
    "plt.show()\n",
    "\n",
    "# Calculate accuracy metrics\n",
    "mae = mean_absolute_error(df['Actual Price'], df['Predicted Price'])\n",
    "rmse = np.sqrt(mean_squared_error(df['Actual Price'], df['Predicted Price']))\n",
    "r2 = r2_score(df['Actual Price'], df['Predicted Price'])\n",
    "mape = np.mean(np.abs((df['Actual Price'] - df['Predicted Price']) / df['Actual Price'])) * 100\n",
    "\n",
    "print(f\"Accuracy Metrics:\")\n",
    "print(f\"MAE: {mae:.2f}\")\n",
    "print(f\"RMSE: {rmse:.2f}\")\n",
    "print(f\"R²: {r2:.3f}\")\n",
    "print(f\"MAPE: {mape:.2f}%\")"
   ]
  },
  {
   "cell_type": "code",
   "execution_count": null,
   "id": "b013988f",
   "metadata": {},
   "outputs": [],
   "source": [
    "#Precision and Recall\n",
    "df = final_df_clean[['Date','next_day_price','predicted_price','Predictions','price_percentage_change', 'Label']]\n",
    "df['true'] = df['price_percentage_change'].apply(lambda x : 1 if x>0 else 0 )\n",
    "df['pred'] = df['Predictions'].apply(lambda x : 1 if x>0 else 0 )\n",
    "df"
   ]
  },
  {
   "cell_type": "code",
   "execution_count": null,
   "id": "28f46aed",
   "metadata": {},
   "outputs": [],
   "source": [
    "\n",
    "def classification_metrics(y_true, y_pred):\n",
    "    \"\"\"\n",
    "    Calculate precision, recall, and F1 score for binary classification.\n",
    "    y_true: pandas Series or array-like of ground truth (0/1)\n",
    "    y_pred: pandas Series or array-like of predictions (0/1)\n",
    "    Returns: dict with precision, recall, f1\n",
    "    \"\"\"\n",
    "    y_true = np.array(y_true)\n",
    "    y_pred = np.array(y_pred)\n",
    "    \n",
    "    TP = np.sum((y_true == 1) & (y_pred == 1))\n",
    "    FP = np.sum((y_true == 0) & (y_pred == 1))\n",
    "    FN = np.sum((y_true == 1) & (y_pred == 0))\n",
    "    \n",
    "    precision = TP / (TP + FP) if (TP + FP) > 0 else 0.0\n",
    "    recall = TP / (TP + FN) if (TP + FN) > 0 else 0.0\n",
    "    f1 = 2 * precision * recall / (precision + recall) if (precision + recall) > 0 else 0.0\n",
    "    \n",
    "    return {\"precision\": precision, \"recall\": recall, \"f1\": f1}\n",
    "\n",
    "# Example usage:\n",
    "metrics = classification_metrics(df['true'], df['pred'])\n",
    "print(\"Precision:\", metrics[\"precision\"])\n",
    "print(\"Recall:\", metrics[\"recall\"])\n",
    "print(\"F1 Score:\", metrics[\"f1\"])\n",
    "\n",
    "\n"
   ]
  },
  {
   "cell_type": "code",
   "execution_count": null,
   "id": "ba6ddcce",
   "metadata": {},
   "outputs": [],
   "source": []
  }
 ],
 "metadata": {
  "kernelspec": {
   "display_name": "MLEnvt_Python38",
   "language": "python",
   "name": "python3"
  },
  "language_info": {
   "codemirror_mode": {
    "name": "ipython",
    "version": 3
   },
   "file_extension": ".py",
   "mimetype": "text/x-python",
   "name": "python",
   "nbconvert_exporter": "python",
   "pygments_lexer": "ipython3",
   "version": "3.8.16"
  }
 },
 "nbformat": 4,
 "nbformat_minor": 5
}
