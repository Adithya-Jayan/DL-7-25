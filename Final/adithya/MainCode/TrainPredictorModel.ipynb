{
 "cells": [
  {
   "cell_type": "markdown",
   "id": "d5ab277b",
   "metadata": {},
   "source": [
    "# Predictor Train\n",
    ">  Notebook to Train the final predictor model using the final train dataset"
   ]
  },
  {
   "cell_type": "markdown",
   "id": "cee7b46c",
   "metadata": {},
   "source": [
    "### Import Packages and functions"
   ]
  },
  {
   "cell_type": "code",
   "execution_count": 1,
   "id": "952f008e",
   "metadata": {},
   "outputs": [],
   "source": [
    "#Import required packages.\n",
    "import pandas as pd\n",
    "import numpy as np\n",
    "import torch\n",
    "import torch.nn as nn\n",
    "import torch.nn.functional as F"
   ]
  },
  {
   "cell_type": "code",
   "execution_count": 2,
   "id": "8b899f59",
   "metadata": {},
   "outputs": [],
   "source": [
    "#Import custom defined objects\n",
    "from modules import SetTransformer\n",
    "from functions import preprocess_dataset"
   ]
  },
  {
   "cell_type": "markdown",
   "id": "baf3836b",
   "metadata": {},
   "source": [
    "### Load, Preprocess and Save Training Data"
   ]
  },
  {
   "cell_type": "code",
   "execution_count": 3,
   "id": "dff2e567",
   "metadata": {},
   "outputs": [
    {
     "name": "stdout",
     "output_type": "stream",
     "text": [
      "Number of rows in the dataset:  (11412, 7)\n"
     ]
    },
    {
     "data": {
      "application/vnd.microsoft.datawrangler.viewer.v0+json": {
       "columns": [
        {
         "name": "index",
         "rawType": "int64",
         "type": "integer"
        },
        {
         "name": "date",
         "rawType": "object",
         "type": "string"
        },
        {
         "name": "text",
         "rawType": "object",
         "type": "string"
        },
        {
         "name": "label",
         "rawType": "int64",
         "type": "integer"
        },
        {
         "name": "predicted_sentiment",
         "rawType": "object",
         "type": "string"
        },
        {
         "name": "sentiment_confidence",
         "rawType": "float64",
         "type": "float"
        },
        {
         "name": "sentiment_logits",
         "rawType": "object",
         "type": "string"
        },
        {
         "name": "sentiment_probabilities",
         "rawType": "object",
         "type": "string"
        }
       ],
       "ref": "ca849aac-7c13-4eef-91c6-6f006490a48f",
       "rows": [
        [
         "0",
         "2016-01-28",
         "april gold down 20 cents to settle at $1,116.10/oz",
         "2",
         "negative",
         "0.9996",
         "[-2.5769472122192383, -2.57643723487854, 5.939711570739746]",
         "{'positive': '0.0002', 'neutral': '0.0002', 'negative': '0.9996'}"
        ],
        [
         "1",
         "2017-09-13",
         "gold suffers third straight daily decline",
         "2",
         "negative",
         "0.9993",
         "[-2.310701847076416, -2.489659309387207, 5.520696640014648]",
         "{'positive': '0.0004', 'neutral': '0.0003', 'negative': '0.9993'}"
        ],
        [
         "2",
         "2016-07-26",
         "gold futures edge up after two-session decline",
         "0",
         "positive",
         "0.9992",
         "[5.106618404388428, -2.7181293964385986, -2.7363905906677246]",
         "{'positive': '0.9992', 'neutral': '0.0004', 'negative': '0.0004'}"
        ],
        [
         "3",
         "2018-02-28",
         "dent research : is gold's day in the sun coming soon?",
         "1",
         "neutral",
         "0.9969",
         "[-2.3254199028015137, 4.0417585372924805, -2.543301582336426]",
         "{'positive': '0.0017', 'neutral': '0.9969', 'negative': '0.0014'}"
        ],
        [
         "4",
         "2017-06-09",
         "gold snaps three-day rally as trump, lawmakers reach debt-ceiling deal",
         "2",
         "positive",
         "0.9107",
         "[2.0869791507720947, -2.564009428024292, -0.3375132977962494]",
         "{'positive': '0.9107', 'neutral': '0.0087', 'negative': '0.0806'}"
        ]
       ],
       "shape": {
        "columns": 7,
        "rows": 5
       }
      },
      "text/html": [
       "<div>\n",
       "<style scoped>\n",
       "    .dataframe tbody tr th:only-of-type {\n",
       "        vertical-align: middle;\n",
       "    }\n",
       "\n",
       "    .dataframe tbody tr th {\n",
       "        vertical-align: top;\n",
       "    }\n",
       "\n",
       "    .dataframe thead th {\n",
       "        text-align: right;\n",
       "    }\n",
       "</style>\n",
       "<table border=\"1\" class=\"dataframe\">\n",
       "  <thead>\n",
       "    <tr style=\"text-align: right;\">\n",
       "      <th></th>\n",
       "      <th>date</th>\n",
       "      <th>text</th>\n",
       "      <th>label</th>\n",
       "      <th>predicted_sentiment</th>\n",
       "      <th>sentiment_confidence</th>\n",
       "      <th>sentiment_logits</th>\n",
       "      <th>sentiment_probabilities</th>\n",
       "    </tr>\n",
       "  </thead>\n",
       "  <tbody>\n",
       "    <tr>\n",
       "      <th>0</th>\n",
       "      <td>2016-01-28</td>\n",
       "      <td>april gold down 20 cents to settle at $1,116.1...</td>\n",
       "      <td>2</td>\n",
       "      <td>negative</td>\n",
       "      <td>0.9996</td>\n",
       "      <td>[-2.5769472122192383, -2.57643723487854, 5.939...</td>\n",
       "      <td>{'positive': '0.0002', 'neutral': '0.0002', 'n...</td>\n",
       "    </tr>\n",
       "    <tr>\n",
       "      <th>1</th>\n",
       "      <td>2017-09-13</td>\n",
       "      <td>gold suffers third straight daily decline</td>\n",
       "      <td>2</td>\n",
       "      <td>negative</td>\n",
       "      <td>0.9993</td>\n",
       "      <td>[-2.310701847076416, -2.489659309387207, 5.520...</td>\n",
       "      <td>{'positive': '0.0004', 'neutral': '0.0003', 'n...</td>\n",
       "    </tr>\n",
       "    <tr>\n",
       "      <th>2</th>\n",
       "      <td>2016-07-26</td>\n",
       "      <td>gold futures edge up after two-session decline</td>\n",
       "      <td>0</td>\n",
       "      <td>positive</td>\n",
       "      <td>0.9992</td>\n",
       "      <td>[5.106618404388428, -2.7181293964385986, -2.73...</td>\n",
       "      <td>{'positive': '0.9992', 'neutral': '0.0004', 'n...</td>\n",
       "    </tr>\n",
       "    <tr>\n",
       "      <th>3</th>\n",
       "      <td>2018-02-28</td>\n",
       "      <td>dent research : is gold's day in the sun comin...</td>\n",
       "      <td>1</td>\n",
       "      <td>neutral</td>\n",
       "      <td>0.9969</td>\n",
       "      <td>[-2.3254199028015137, 4.0417585372924805, -2.5...</td>\n",
       "      <td>{'positive': '0.0017', 'neutral': '0.9969', 'n...</td>\n",
       "    </tr>\n",
       "    <tr>\n",
       "      <th>4</th>\n",
       "      <td>2017-06-09</td>\n",
       "      <td>gold snaps three-day rally as trump, lawmakers...</td>\n",
       "      <td>2</td>\n",
       "      <td>positive</td>\n",
       "      <td>0.9107</td>\n",
       "      <td>[2.0869791507720947, -2.564009428024292, -0.33...</td>\n",
       "      <td>{'positive': '0.9107', 'neutral': '0.0087', 'n...</td>\n",
       "    </tr>\n",
       "  </tbody>\n",
       "</table>\n",
       "</div>"
      ],
      "text/plain": [
       "         date                                               text  label  \\\n",
       "0  2016-01-28  april gold down 20 cents to settle at $1,116.1...      2   \n",
       "1  2017-09-13          gold suffers third straight daily decline      2   \n",
       "2  2016-07-26     gold futures edge up after two-session decline      0   \n",
       "3  2018-02-28  dent research : is gold's day in the sun comin...      1   \n",
       "4  2017-06-09  gold snaps three-day rally as trump, lawmakers...      2   \n",
       "\n",
       "  predicted_sentiment  sentiment_confidence  \\\n",
       "0            negative                0.9996   \n",
       "1            negative                0.9993   \n",
       "2            positive                0.9992   \n",
       "3             neutral                0.9969   \n",
       "4            positive                0.9107   \n",
       "\n",
       "                                    sentiment_logits  \\\n",
       "0  [-2.5769472122192383, -2.57643723487854, 5.939...   \n",
       "1  [-2.310701847076416, -2.489659309387207, 5.520...   \n",
       "2  [5.106618404388428, -2.7181293964385986, -2.73...   \n",
       "3  [-2.3254199028015137, 4.0417585372924805, -2.5...   \n",
       "4  [2.0869791507720947, -2.564009428024292, -0.33...   \n",
       "\n",
       "                             sentiment_probabilities  \n",
       "0  {'positive': '0.0002', 'neutral': '0.0002', 'n...  \n",
       "1  {'positive': '0.0004', 'neutral': '0.0003', 'n...  \n",
       "2  {'positive': '0.9992', 'neutral': '0.0004', 'n...  \n",
       "3  {'positive': '0.0017', 'neutral': '0.9969', 'n...  \n",
       "4  {'positive': '0.9107', 'neutral': '0.0087', 'n...  "
      ]
     },
     "execution_count": 3,
     "metadata": {},
     "output_type": "execute_result"
    }
   ],
   "source": [
    "#Load the dataset\n",
    "input_file = '../Data/Final_gold-dataset-sinha-khandait1_with_predictions.csv'\n",
    "\n",
    "df_raw = pd.read_csv(input_file)\n",
    "print(\"Number of rows in the dataset: \", df_raw.shape)\n",
    "df_raw.head()"
   ]
  },
  {
   "cell_type": "code",
   "execution_count": 4,
   "id": "297e4558",
   "metadata": {},
   "outputs": [
    {
     "name": "stdout",
     "output_type": "stream",
     "text": [
      "Number of rows after preprocessing:  (11412, 4)\n"
     ]
    },
    {
     "data": {
      "application/vnd.microsoft.datawrangler.viewer.v0+json": {
       "columns": [
        {
         "name": "index",
         "rawType": "int64",
         "type": "integer"
        },
        {
         "name": "date",
         "rawType": "object",
         "type": "string"
        },
        {
         "name": "text",
         "rawType": "object",
         "type": "string"
        },
        {
         "name": "label",
         "rawType": "int64",
         "type": "integer"
        },
        {
         "name": "sentiment",
         "rawType": "float64",
         "type": "float"
        }
       ],
       "ref": "af2dd283-e66f-40f1-ad34-8e263e918afc",
       "rows": [
        [
         "0",
         "2016-01-28",
         "april gold down 20 cents to settle at $1,116.10/oz",
         "2",
         "-0.9990002400000001"
        ],
        [
         "1",
         "2017-09-13",
         "gold suffers third straight daily decline",
         "2",
         "-0.99820077"
        ],
        [
         "2",
         "2016-07-26",
         "gold futures edge up after two-session decline",
         "0",
         "0.99800096"
        ],
        [
         "3",
         "2018-02-28",
         "dent research : is gold's day in the sun coming soon?",
         "1",
         "0.0002990699999999999"
        ],
        [
         "4",
         "2017-06-09",
         "gold snaps three-day rally as trump, lawmakers reach debt-ceiling deal",
         "2",
         "0.7559720699999999"
        ]
       ],
       "shape": {
        "columns": 4,
        "rows": 5
       }
      },
      "text/html": [
       "<div>\n",
       "<style scoped>\n",
       "    .dataframe tbody tr th:only-of-type {\n",
       "        vertical-align: middle;\n",
       "    }\n",
       "\n",
       "    .dataframe tbody tr th {\n",
       "        vertical-align: top;\n",
       "    }\n",
       "\n",
       "    .dataframe thead th {\n",
       "        text-align: right;\n",
       "    }\n",
       "</style>\n",
       "<table border=\"1\" class=\"dataframe\">\n",
       "  <thead>\n",
       "    <tr style=\"text-align: right;\">\n",
       "      <th></th>\n",
       "      <th>date</th>\n",
       "      <th>text</th>\n",
       "      <th>label</th>\n",
       "      <th>sentiment</th>\n",
       "    </tr>\n",
       "  </thead>\n",
       "  <tbody>\n",
       "    <tr>\n",
       "      <th>0</th>\n",
       "      <td>2016-01-28</td>\n",
       "      <td>april gold down 20 cents to settle at $1,116.1...</td>\n",
       "      <td>2</td>\n",
       "      <td>-0.999000</td>\n",
       "    </tr>\n",
       "    <tr>\n",
       "      <th>1</th>\n",
       "      <td>2017-09-13</td>\n",
       "      <td>gold suffers third straight daily decline</td>\n",
       "      <td>2</td>\n",
       "      <td>-0.998201</td>\n",
       "    </tr>\n",
       "    <tr>\n",
       "      <th>2</th>\n",
       "      <td>2016-07-26</td>\n",
       "      <td>gold futures edge up after two-session decline</td>\n",
       "      <td>0</td>\n",
       "      <td>0.998001</td>\n",
       "    </tr>\n",
       "    <tr>\n",
       "      <th>3</th>\n",
       "      <td>2018-02-28</td>\n",
       "      <td>dent research : is gold's day in the sun comin...</td>\n",
       "      <td>1</td>\n",
       "      <td>0.000299</td>\n",
       "    </tr>\n",
       "    <tr>\n",
       "      <th>4</th>\n",
       "      <td>2017-06-09</td>\n",
       "      <td>gold snaps three-day rally as trump, lawmakers...</td>\n",
       "      <td>2</td>\n",
       "      <td>0.755972</td>\n",
       "    </tr>\n",
       "  </tbody>\n",
       "</table>\n",
       "</div>"
      ],
      "text/plain": [
       "         date                                               text  label  \\\n",
       "0  2016-01-28  april gold down 20 cents to settle at $1,116.1...      2   \n",
       "1  2017-09-13          gold suffers third straight daily decline      2   \n",
       "2  2016-07-26     gold futures edge up after two-session decline      0   \n",
       "3  2018-02-28  dent research : is gold's day in the sun comin...      1   \n",
       "4  2017-06-09  gold snaps three-day rally as trump, lawmakers...      2   \n",
       "\n",
       "   sentiment  \n",
       "0  -0.999000  \n",
       "1  -0.998201  \n",
       "2   0.998001  \n",
       "3   0.000299  \n",
       "4   0.755972  "
      ]
     },
     "execution_count": 4,
     "metadata": {},
     "output_type": "execute_result"
    }
   ],
   "source": [
    "#Preprocess the dataset\n",
    "df_processed = preprocess_dataset(df_raw)\n",
    "print(\"Number of rows after preprocessing: \", df_processed.shape)\n",
    "df_processed.head()"
   ]
  },
  {
   "cell_type": "code",
   "execution_count": null,
   "id": "5ea5e386",
   "metadata": {},
   "outputs": [],
   "source": [
    "def add_gold_price_change(df,gold_price_change_filename):\n",
    "    \n",
    "    \n",
    "\n",
    "\n",
    "    return df\n"
   ]
  },
  {
   "cell_type": "code",
   "execution_count": null,
   "id": "e18579a6",
   "metadata": {},
   "outputs": [],
   "source": [
    "df_combined = add_gold_price_change(df_processed,'../../Jaison/Model_Evaluation_Code/Data/GOLDBEES_ETF_price_data.csv')\n",
    "\n",
    "print(\"Number of rows after adding gold price change: \", df_combined.shape)\n",
    "df_combined.head()"
   ]
  },
  {
   "cell_type": "markdown",
   "id": "3e57c591",
   "metadata": {},
   "source": []
  }
 ],
 "metadata": {
  "kernelspec": {
   "display_name": "MLEnvt_Python38",
   "language": "python",
   "name": "python3"
  },
  "language_info": {
   "codemirror_mode": {
    "name": "ipython",
    "version": 3
   },
   "file_extension": ".py",
   "mimetype": "text/x-python",
   "name": "python",
   "nbconvert_exporter": "python",
   "pygments_lexer": "ipython3",
   "version": "3.8.16"
  }
 },
 "nbformat": 4,
 "nbformat_minor": 5
}
