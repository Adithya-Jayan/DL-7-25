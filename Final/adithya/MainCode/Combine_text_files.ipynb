{
 "cells": [
  {
   "cell_type": "code",
   "execution_count": 2,
   "id": "ba7d2b1e",
   "metadata": {},
   "outputs": [],
   "source": [
    "import pandas as pd"
   ]
  },
  {
   "cell_type": "code",
   "execution_count": 5,
   "id": "fa22d85e",
   "metadata": {},
   "outputs": [],
   "source": [
    "\n",
    "bullion_df = pd.read_csv(\"../../deepak/Final_bullionvault_articles.csv\")\n",
    "bullion_df['Date']=pd.to_datetime(bullion_df['Date'], format='mixed', utc=True).dt.date\n",
    "\n",
    "yf_df=pd.read_csv(\"../../deepak/Final_yahoo_finance_articles.csv\")\n",
    "yf_df['Date']=pd.to_datetime(yf_df['Date'], format='mixed', utc=True).dt.date\n",
    "\n",
    "reuters_df = pd.read_csv(\"../../deepak/Final_reuters_tokenizer_ready.csv\")\n",
    "reuters_df['Date']=pd.to_datetime(reuters_df['Date'], format='mixed', utc=True).dt.date\n",
    "\n",
    "sinha_df = pd.read_csv(\"../../deepak/Final_gold-dataset-sinha-khandait1.csv\")\n",
    "sinha_df['Date']=pd.to_datetime(sinha_df['Date'], format='mixed', utc=True).dt.date\n",
    "\n",
    "df_list_for_concatenation = [bullion_df, yf_df, reuters_df,sinha_df]\n",
    "\n",
    "df_combined = pd.concat(df_list_for_concatenation, ignore_index=True)\n",
    "df_combined = df_combined.sort_values(by='Date')\n",
    "\n",
    "    "
   ]
  },
  {
   "cell_type": "code",
   "execution_count": 7,
   "id": "ecfa8479",
   "metadata": {},
   "outputs": [],
   "source": [
    "df_combined.to_csv(\"../../deepak/combined.csv\")"
   ]
  },
  {
   "cell_type": "code",
   "execution_count": null,
   "id": "242eeff4",
   "metadata": {},
   "outputs": [],
   "source": []
  }
 ],
 "metadata": {
  "kernelspec": {
   "display_name": "MLEnvt_Python38",
   "language": "python",
   "name": "python3"
  },
  "language_info": {
   "codemirror_mode": {
    "name": "ipython",
    "version": 3
   },
   "file_extension": ".py",
   "mimetype": "text/x-python",
   "name": "python",
   "nbconvert_exporter": "python",
   "pygments_lexer": "ipython3",
   "version": "3.8.16"
  }
 },
 "nbformat": 4,
 "nbformat_minor": 5
}
